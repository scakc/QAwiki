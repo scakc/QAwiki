{
 "cells": [
  {
   "cell_type": "code",
   "execution_count": 2,
   "metadata": {},
   "outputs": [],
   "source": [
    "import numpy as np\n",
    "import matplotlib.pyplot as plt\n",
    "import os\n",
    "import re\n",
    "import pandas as pd\n",
    "import string\n",
    "import nltk\n",
    "from nltk.corpus import stopwords\n",
    "from nltk.stem import WordNetLemmatizer as WNL\n",
    "import scipy\n",
    "from IPython.display import clear_output as clr\n",
    "%matplotlib inline"
   ]
  },
  {
   "cell_type": "code",
   "execution_count": 3,
   "metadata": {},
   "outputs": [
    {
     "data": {
      "text/plain": [
       "['.ipynb_checkpoints',\n",
       " '20news-18828.tar.gz',\n",
       " 'corpuses',\n",
       " 'LDA',\n",
       " 'stackoverflow-data-idf.json',\n",
       " 'stackoverflow-test.json',\n",
       " 'TF-IDF',\n",
       " 'train_corpus',\n",
       " 'Unigram']"
      ]
     },
     "execution_count": 3,
     "metadata": {},
     "output_type": "execute_result"
    }
   ],
   "source": [
    "# Defining data directory\n",
    "data_dir = os.getcwd() + '/../'\n",
    "# Check in contents of current dir are same as expected\n",
    "os.listdir(data_dir)"
   ]
  },
  {
   "cell_type": "code",
   "execution_count": 7,
   "metadata": {},
   "outputs": [],
   "source": [
    "from nltk.corpus import brown\n",
    " \n",
    "data = []\n",
    " \n",
    "for fileid in brown.fileids():\n",
    "    document = ' '.join(brown.words(fileid))\n",
    "    data.append(document)"
   ]
  },
  {
   "cell_type": "code",
   "execution_count": 10,
   "metadata": {},
   "outputs": [
    {
     "data": {
      "text/plain": [
       "500"
      ]
     },
     "execution_count": 10,
     "metadata": {},
     "output_type": "execute_result"
    }
   ],
   "source": [
    "len(data)"
   ]
  },
  {
   "cell_type": "code",
   "execution_count": 11,
   "metadata": {},
   "outputs": [],
   "source": [
    "class vocab:\n",
    "    \n",
    "    def __init__(self, corpus):\n",
    "        \"\"\"\n",
    "        Corpus : list of docs\n",
    "        \"\"\"\n",
    "        self.dictionary = {}\n",
    "        self.vocab_size = 0\n",
    "        self.make_vocab(corpus)\n",
    "        self.inv_dictionary = {v: k for k, v in self.dictionary.items()}\n",
    "    \n",
    "    def make_vocab(self,corpus):\n",
    "        \n",
    "        count = 0\n",
    "        for doc in corpus:\n",
    "            for word in doc.strip().split():\n",
    "                if(word in self.dictionary.keys()):\n",
    "                    pass\n",
    "                else:\n",
    "                    self.dictionary[word] = count\n",
    "                    count += 1\n",
    "        \n",
    "        self.vocab_size = count\n",
    "        assert(len(self.dictionary.keys()) == count), \"Wrong Number of words added\"\n",
    "        \n",
    "    def get_index(self,word):\n",
    "        if(word in self.dictionary.keys()):\n",
    "            return self.dictionary[word]\n",
    "        else:\n",
    "            return -1\n",
    "    \n",
    "    def get_word(self,index):\n",
    "        if(index in self.inv_dictionary.keys()):\n",
    "            return self.inv_dictionary[index]\n",
    "        else:\n",
    "            return \" \""
   ]
  },
  {
   "cell_type": "code",
   "execution_count": 12,
   "metadata": {},
   "outputs": [],
   "source": [
    "myDict = vocab(data)"
   ]
  },
  {
   "cell_type": "code",
   "execution_count": 13,
   "metadata": {},
   "outputs": [
    {
     "data": {
      "text/plain": [
       "56057"
      ]
     },
     "execution_count": 13,
     "metadata": {},
     "output_type": "execute_result"
    }
   ],
   "source": [
    "myDict.vocab_size"
   ]
  },
  {
   "cell_type": "code",
   "execution_count": 14,
   "metadata": {},
   "outputs": [],
   "source": [
    "class LDA:\n",
    "    \n",
    "    def __init__(self,vocab, K):\n",
    "        \"\"\"\n",
    "        vocab : a dictionary class containing all the words and corresponding indices\n",
    "        k : smoothing parameter for beta matrix\n",
    "        \"\"\"\n",
    "        self.eps = 10e-8\n",
    "        self.tol = 0.001\n",
    "        self.vocab = vocab\n",
    "        self.V = vocab.vocab_size\n",
    "        self.K = K\n",
    "        self.alpha = np.zeros((self.K, 1)) + np.random.rand()\n",
    "        beta = np.random.rand(self.K, self.V)\n",
    "        beta = beta/(np.sum(beta,  axis = 1).reshape(-1,1) + self.eps)\n",
    "        self.beta = beta\n",
    "        \n",
    "        self.gamma = np.random.rand(self.K , 1)\n",
    "        self.digamma = scipy.special.digamma\n",
    "        self.polygamma = scipy.special.polygamma\n",
    "        \n",
    "        \n",
    "    def train(self, corpus, epochs = 1):\n",
    "        \n",
    "        \"\"\"\n",
    "        Corpus : List of documents\n",
    "        epochs : max_number of epochs\n",
    "        \"\"\"\n",
    "        \n",
    "        \n",
    "        M = len(corpus)\n",
    "        \n",
    "        for epoch in range(epochs):\n",
    "            \n",
    "            beta = np.zeros((self.K, self.V))\n",
    "            grad_alpha = 0*self.alpha\n",
    "            hesn_alpha = np.zeros((self.K, self.K))\n",
    "            print(\"Initialized\")\n",
    "            count = 0\n",
    "            \n",
    "            for doc in corpus:\n",
    "                clr(wait = True)\n",
    "                count += 1\n",
    "                print(\"epoch : \", epoch, \" doc init: \", count)\n",
    "                words = doc.strip().split(\" \")\n",
    "                N = len(words)\n",
    "                phi = np.zeros((N, self.K)) + 1/self.K\n",
    "                gamma = self.alpha + N/self.K\n",
    "                w = np.zeros((N, self.V))\n",
    "                \n",
    "\n",
    "                new_norm = self.norm(gamma)\n",
    "                old_norm = new_norm  + 20\n",
    "                while(np.abs(new_norm - old_norm) > self.tol):\n",
    "                    for j, word in enumerate(words):\n",
    "                        \n",
    "                        index = self.vocab.get_index(word)\n",
    "                        beta_v = (self.beta[:,index].reshape(self.K, 1))\n",
    "                        phi_n = self.calc_phi(beta_v, gamma)\n",
    "                        phi[j, :] = phi_n.reshape(-1)\n",
    "                        w[j, index] = 1\n",
    "\n",
    "                    gamma = self.alpha + np.sum(phi , axis = 0).reshape(self.K, 1)\n",
    "                    old_norm = new_norm\n",
    "                    new_norm = self.norm(gamma)\n",
    "\n",
    "\n",
    "                print(\"epoch : \", epoch, \"made gamma and phi converge \", count)\n",
    "                \n",
    "\n",
    "                beta = beta+np.dot(phi.T, w)\n",
    "                \n",
    "                        \n",
    "                print(\"epoch : \", epoch, \"made beta\", count)\n",
    "\n",
    "                \n",
    "                grad_alpha += self.digamma(np.sum(self.alpha)) - self.digamma(self.alpha)\n",
    "                grad_alpha += self.digamma(gamma) - self.digamma(np.sum(gamma))\n",
    "\n",
    "                \n",
    "            beta = beta/(np.sum(beta,  axis = 1).reshape(-1,1) + self.eps)\n",
    "            alpha = self.alpha\n",
    "            hess_alpha = np.diag(M*scipy.special.polygamma(1,alpha).reshape(-1)) - scipy.special.polygamma(1,np.sum(alpha))\n",
    "            alpha += np.dot(np.linalg.inv(hess_alpha),grad_alpha.reshape(-1,1))            \n",
    "\n",
    "\n",
    "            # update params\n",
    "            self.beta = beta\n",
    "            self.gamma = gamma\n",
    "            self.alpha = alpha\n",
    "            \n",
    "\n",
    "    def calc_phi(self, beta_v, gamma):\n",
    "        phi = np.exp(self.digamma(gamma) - self.digamma(np.sum(gamma))).reshape(self.K,1)\n",
    "        phi = beta_v*phi\n",
    "        phi = phi/(np.sum(phi, axis = 0) + self.eps)\n",
    "        return phi\n",
    "    \n",
    "    def norm(self, a):\n",
    "        sqr = np.square(a)\n",
    "        return np.sqrt(np.sum(sqr))"
   ]
  },
  {
   "cell_type": "code",
   "execution_count": 15,
   "metadata": {},
   "outputs": [],
   "source": [
    "model = LDA(myDict , 50)"
   ]
  },
  {
   "cell_type": "code",
   "execution_count": null,
   "metadata": {},
   "outputs": [
    {
     "name": "stdout",
     "output_type": "stream",
     "text": [
      "epoch :  0  doc init:  242\n"
     ]
    }
   ],
   "source": [
    "model.train(data, epochs= 10)"
   ]
  },
  {
   "cell_type": "code",
   "execution_count": 516,
   "metadata": {},
   "outputs": [],
   "source": []
  },
  {
   "cell_type": "code",
   "execution_count": 516,
   "metadata": {},
   "outputs": [],
   "source": [
    "indices = np.argsort(model.beta[44])[0:10]"
   ]
  },
  {
   "cell_type": "code",
   "execution_count": 517,
   "metadata": {},
   "outputs": [
    {
     "name": "stdout",
     "output_type": "stream",
     "text": [
      "designer\n",
      "drivers\n",
      "lshw\n",
      "depth\n",
      "armv\n",
      "thu\n",
      "preempt\n",
      "uname\n",
      "rpi\n",
      "fresh\n"
     ]
    }
   ],
   "source": [
    "for i in indices:\n",
    "    print(myDict.get_word(i))"
   ]
  },
  {
   "cell_type": "code",
   "execution_count": 519,
   "metadata": {},
   "outputs": [
    {
     "data": {
      "image/png": "[encoded data removed]",
      "text/plain": [
       "<Figure size 432x288 with 1 Axes>"
      ]
     },
     "metadata": {
      "needs_background": "light"
     },
     "output_type": "display_data"
    }
   ],
   "source": [
    "plt.plot(model.beta[44])\n",
    "plt.show()"
   ]
  },
  {
   "cell_type": "code",
   "execution_count": null,
   "metadata": {},
   "outputs": [],
   "source": [
    "class Smooth_LDA:\n",
    "    \n",
    "    def __init__(self,vocab, K):\n",
    "        \"\"\"\n",
    "        vocab : a dictionary containing all the words and corresponding indices\n",
    "        k : smoothing parameter for beta matrix\n",
    "        \"\"\"\n",
    "        self.vocab = vocab\n",
    "        self.V = vocab.vocab_size\n",
    "        self.K = K\n",
    "        self.alpha = np.zeros((self.K, 1)) + np.random.rand()\n",
    "        self.beta = np.random.rand(self.K, self.V)\n",
    "        self.gamma = np.random.rand(self.K , 1)\n",
    "        self.digamma = scipy.special.digamma\n",
    "        self.ita = 1/self.V\n",
    "        self.lamda = np.zeros((self.K, self.V)) + self.ita\n",
    "        self.eps = 10e-8\n",
    "        \n",
    "        \n",
    "    def train(self, corpus, epochs = 1):\n",
    "        \n",
    "        M = len(corpus)\n",
    "        \n",
    "        for epoch in range(epochs):\n",
    "            beta = np.zeros((self.K, self.V))\n",
    "            grad_alpha = 0\n",
    "            hesn_alpha = 0\n",
    "            print(\"Initialized\")\n",
    "            count = 0\n",
    "            for doc in corpus:\n",
    "                clr(wait = True)\n",
    "                count += 1\n",
    "                print(\"epoch : \", epoch, \" doc init: \", count)\n",
    "                words = doc.strip().split(\" \")\n",
    "                N = len(words)\n",
    "                phi = np.zeros((N, self.K))\n",
    "                gamma = np.zeros((self.K, 1))\n",
    "\n",
    "\n",
    "                for j, word in enumerate(words):\n",
    "\n",
    "                    index = self.vocab.get_index(word)\n",
    "                    beta_v = np.log(self.beta[:,index].reshape(self.K, 1))\n",
    "                    phi_n = self.calc_phi(beta_v)\n",
    "                    phi[j, :] = phi_n.reshape(-1)\n",
    "                    \n",
    "                \n",
    "                print(\"epoch : \", epoch, \"made phi\", count)\n",
    "\n",
    "                for i in range(self.K):\n",
    "                    gamma[i] = self.alpha[i] + np.sum(phi[:, i])\n",
    "\n",
    "\n",
    "                print(\"epoch : \", epoch, \"made gamma\", count)\n",
    "                \n",
    "\n",
    "                for i in range(self.K):\n",
    "                    for j in range(self.V):\n",
    "                        val = 0\n",
    "                        for k, word in enumerate(words):\n",
    "                            index = self.vocab.get_index(word)\n",
    "                            if(j == index):\n",
    "                                val += phi[k, i]\n",
    "\n",
    "                        beta[i,j] = val\n",
    "                        \n",
    "                print(\"epoch : \", epoch, \"made beta\", count)\n",
    "\n",
    "                lamda = self.ita + beta\n",
    "\n",
    "                beta = np.exp(self.digamma(lamda)- self.digamma(np.sum(lamda,axis = 1))) ;\n",
    "                beta = beta/(np.sum(beta,  axis = 1).reshape(-1,1) + self.eps)\n",
    "                \n",
    "                grad_alpha += self.digamma(np.sum(self.alpha)) - self.digamma(self.alpha)\n",
    "                grad_alpha += self.digamma(gamma) - self.digamma(np.sum(gamma))\n",
    "\n",
    "            # update params\n",
    "            self.beta = beta\n",
    "            self.gamma = gamma\n",
    "            self.alpha = self.alpha + 0.0001*grad_alpha.reshape(-1,1)\n",
    "            \n",
    "\n",
    "    def calc_phi(self, beta_v):\n",
    "        phi = np.exp(self.digamma(self.gamma) - self.digamma(np.sum(self.gamma))).reshape(self.K,1)\n",
    "        phi = beta_v*phi\n",
    "        phi = phi/(np.sum(phi, axis = 0) + self.eps)\n",
    "        return phi"
   ]
  },
  {
   "cell_type": "code",
   "execution_count": null,
   "metadata": {},
   "outputs": [],
   "source": [
    "s_model = Smooth_LDA(myDict , 50)"
   ]
  },
  {
   "cell_type": "code",
   "execution_count": null,
   "metadata": {},
   "outputs": [],
   "source": [
    "s_model.train(data, epochs= 10)"
   ]
  },
  {
   "cell_type": "code",
   "execution_count": null,
   "metadata": {},
   "outputs": [],
   "source": [
    "indices = np.argsort(model.beta[44])[0:10]"
   ]
  },
  {
   "cell_type": "code",
   "execution_count": null,
   "metadata": {},
   "outputs": [],
   "source": [
    "for i in indices:\n",
    "    print(myDict.get_word(i))"
   ]
  },
  {
   "cell_type": "code",
   "execution_count": null,
   "metadata": {},
   "outputs": [],
   "source": [
    "plt.plot(model.beta[44])\n",
    "plt.show()"
   ]
  }
 ],
 "metadata": {
  "kernelspec": {
   "display_name": "Python 3",
   "language": "python",
   "name": "python3"
  },
  "language_info": {
   "codemirror_mode": {
    "name": "ipython",
    "version": 3
   },
   "file_extension": ".py",
   "mimetype": "text/x-python",
   "name": "python",
   "nbconvert_exporter": "python",
   "pygments_lexer": "ipython3",
   "version": "3.6.6"
  }
 },
 "nbformat": 4,
 "nbformat_minor": 2
}
