{
 "cells": [
  {
   "cell_type": "code",
   "execution_count": 1,
   "metadata": {},
   "outputs": [],
   "source": [
    "import numpy as np\n",
    "import matplotlib.pyplot as plt\n",
    "import os\n",
    "import re\n",
    "import pandas as pd\n",
    "import string\n",
    "import nltk\n",
    "from nltk.corpus import stopwords\n",
    "from nltk.stem import WordNetLemmatizer as WNL\n",
    "%matplotlib inline"
   ]
  },
  {
   "cell_type": "code",
   "execution_count": null,
   "metadata": {},
   "outputs": [],
   "source": [
    "# Defining data directory\n",
    "data_dir = os.getcwd() + '/../'\n",
    "# Check in contents of current dir are same as expected\n",
    "os.listdir(data_dir)"
   ]
  },
  {
   "cell_type": "code",
   "execution_count": 3,
   "metadata": {},
   "outputs": [],
   "source": [
    "# Loading data \n",
    "train_data = pd.read_json(data_dir + 'stackoverflow-data-idf.json', lines = True)\n",
    "test_data = pd.read_json(data_dir + 'stackoverflow-test.json', lines = True)"
   ]
  },
  {
   "cell_type": "code",
   "execution_count": 4,
   "metadata": {},
   "outputs": [
    {
     "name": "stdout",
     "output_type": "stream",
     "text": [
      "Schema:\n",
      "\n",
      " accepted_answer_id          float64\n",
      "answer_count                  int64\n",
      "body                         object\n",
      "comment_count                 int64\n",
      "community_owned_date         object\n",
      "creation_date                object\n",
      "favorite_count              float64\n",
      "id                            int64\n",
      "last_activity_date           object\n",
      "last_edit_date               object\n",
      "last_editor_display_name     object\n",
      "last_editor_user_id         float64\n",
      "owner_display_name           object\n",
      "owner_user_id               float64\n",
      "post_type_id                  int64\n",
      "score                         int64\n",
      "tags                         object\n",
      "title                        object\n",
      "view_count                    int64\n",
      "dtype: object\n",
      "Number of questions,columns= (20000, 19)\n"
     ]
    }
   ],
   "source": [
    "print(\"Schema:\\n\\n\",train_data.dtypes)\n",
    "print(\"Number of questions,columns=\",train_data.shape)"
   ]
  },
  {
   "cell_type": "code",
   "execution_count": 5,
   "metadata": {},
   "outputs": [],
   "source": [
    "# preprocessing only required data...\n",
    "class preprocessor:\n",
    "    \n",
    "    def __init__(self):\n",
    "        \n",
    "        self.lemmatizer = WNL()\n",
    "        self.TAG_RE = re.compile(r'<[^>]+>')\n",
    "    \n",
    "    def normalize_text(self, s):\n",
    "        lower_s = self.lower(s)\n",
    "        rem_p_s = self.remove_punc(lower_s)\n",
    "        rem_a_s = self.remove_articles(rem_p_s)\n",
    "        space_s = self.white_space_fix(rem_a_s)\n",
    "        lemma_s = self.lemmatize(space_s)\n",
    "        return lemma_s\n",
    "        \n",
    "    def lemmatize(self, txt):\n",
    "        lemmatizer = self.lemmatizer\n",
    "        return ' '.join(lemmatizer.lemmatize(lemmatizer.lemmatize(word, pos = 'v'), pos = 'v') for word in txt.split())\n",
    "\n",
    "    def remove_articles(self, text):\n",
    "        return re.sub('\\s+(a|an|and|the)(\\s+)', ' ',text)\n",
    "\n",
    "    def white_space_fix(self, text):\n",
    "        return ' '.join(text.split())\n",
    "\n",
    "    def remove_punc(self, text):\n",
    "        translator = str.maketrans(string.punctuation, ' '*len(string.punctuation))\n",
    "        return text.translate(translator)\n",
    "\n",
    "    def lower(self, text):\n",
    "        return text.lower()\n",
    "    \n",
    "    def pre_process(self, text):\n",
    "\n",
    "        # remove html tags\n",
    "        text = self.TAG_RE.sub(' ', text)\n",
    "\n",
    "        # remove special characters and digits\n",
    "        text=re.sub(\"(\\\\d|\\\\W)+\",\" \",text)\n",
    "\n",
    "        return self.normalize_text(text)\n",
    "    \n",
    "PRE = preprocessor()"
   ]
  },
  {
   "cell_type": "code",
   "execution_count": 6,
   "metadata": {},
   "outputs": [],
   "source": [
    "train_data['text'] = train_data['title'] + train_data['body']\n",
    "train_data['text'] = train_data['text'].apply(lambda x:PRE.pre_process(x))"
   ]
  },
  {
   "cell_type": "code",
   "execution_count": 7,
   "metadata": {},
   "outputs": [
    {
     "data": {
      "text/plain": [
       "'abnormal width of columns i be try to create design use bootstrap which have fix top navbar columns below that first column have fix top div with full parent width more content beneath it which can scroll fix div navbar cant second column have image which cover whole column nothing more i have do follow lt nav class navbar navbar default navbar fix top black gt lt div class container fluid gt lt brand toggle get group for better mobile display gt lt div class navbar header gt lt button type button class navbar toggle collapse data toggle collapse data target bs example navbar collapse aria expand false gt lt span class sr only gt toggle navigation lt span gt lt span class icon bar gt lt span gt lt span class icon bar gt lt span gt lt span class icon bar gt lt span gt lt button gt lt class navbar brand href gt owol lt gt lt div gt lt collect nav link form other content for toggle gt lt div class collapse navbar collapse id bs example navbar collapse gt lt ul class nav navbar nav navbar right gt lt li gt lt href gt home lt gt lt li gt lt li gt lt href gt events lt gt lt li gt lt li gt lt href gt sponsor lt gt lt li gt lt li gt lt href gt dashboard lt gt lt li gt lt ul gt lt div gt lt navbar collapse gt lt div gt lt container fluid gt lt nav gt lt div class container fluid style margin top px gt lt div class row gt lt div class col md id content gt lt div class row id head section gt lt div class col md text center gt lt h class red gt mega league lt h gt lt h gt football lt h gt lt div gt lt div class col md text right style pad top px gt lt href class red gt edit detail lt gt lt div gt lt div gt lt div gt lt div class col md gt fix sidebar lt div gt lt div gt lt div gt with this little js function var new width content width head section width new width here s some relevant css head section position fix top px pad leave px pad bottom px pad right px box shadow px width background fff z index what happen be this as you can see text fix sidebar be go behind fix div head section that s because js be set its width as px which be wrong accord to chrome s inspect element which tell me its just px what be i do wrong how should i solve it here s bootply http www bootply com xigx izm'"
      ]
     },
     "execution_count": 7,
     "metadata": {},
     "output_type": "execute_result"
    }
   ],
   "source": [
    "# Sneak peakkk.....\n",
    "train_data['text'][np.random.randint(train_data.shape[0])]"
   ]
  },
  {
   "cell_type": "code",
   "execution_count": 8,
   "metadata": {},
   "outputs": [],
   "source": [
    "# creating documents corpus \n",
    "corpus = pd.DataFrame(train_data['text'])"
   ]
  },
  {
   "cell_type": "code",
   "execution_count": 9,
   "metadata": {},
   "outputs": [
    {
     "data": {
      "text/html": [
       "<div>\n",
       "<style scoped>\n",
       "    .dataframe tbody tr th:only-of-type {\n",
       "        vertical-align: middle;\n",
       "    }\n",
       "\n",
       "    .dataframe tbody tr th {\n",
       "        vertical-align: top;\n",
       "    }\n",
       "\n",
       "    .dataframe thead th {\n",
       "        text-align: right;\n",
       "    }\n",
       "</style>\n",
       "<table border=\"1\" class=\"dataframe\">\n",
       "  <thead>\n",
       "    <tr style=\"text-align: right;\">\n",
       "      <th></th>\n",
       "      <th>text</th>\n",
       "    </tr>\n",
       "  </thead>\n",
       "  <tbody>\n",
       "    <tr>\n",
       "      <th>0</th>\n",
       "      <td>serialize private struct can it be do i have p...</td>\n",
       "    </tr>\n",
       "    <tr>\n",
       "      <th>1</th>\n",
       "      <td>how do i prevent float right content from over...</td>\n",
       "    </tr>\n",
       "    <tr>\n",
       "      <th>2</th>\n",
       "      <td>gradle command line i m try to run shell scrip...</td>\n",
       "    </tr>\n",
       "    <tr>\n",
       "      <th>3</th>\n",
       "      <td>loop variable as parameter in asynchronous fun...</td>\n",
       "    </tr>\n",
       "    <tr>\n",
       "      <th>4</th>\n",
       "      <td>canot get href value hi i need to valid href b...</td>\n",
       "    </tr>\n",
       "  </tbody>\n",
       "</table>\n",
       "</div>"
      ],
      "text/plain": [
       "                                                text\n",
       "0  serialize private struct can it be do i have p...\n",
       "1  how do i prevent float right content from over...\n",
       "2  gradle command line i m try to run shell scrip...\n",
       "3  loop variable as parameter in asynchronous fun...\n",
       "4  canot get href value hi i need to valid href b..."
      ]
     },
     "execution_count": 9,
     "metadata": {},
     "output_type": "execute_result"
    }
   ],
   "source": [
    "corpus.head()"
   ]
  },
  {
   "cell_type": "code",
   "execution_count": 10,
   "metadata": {},
   "outputs": [],
   "source": [
    "corpus.to_csv('train_corpus')"
   ]
  },
  {
   "cell_type": "code",
   "execution_count": 11,
   "metadata": {},
   "outputs": [],
   "source": [
    "### Enough Preprocessing Now TF IDF Stuff...."
   ]
  },
  {
   "cell_type": "code",
   "execution_count": 26,
   "metadata": {},
   "outputs": [],
   "source": [
    "class tfidf:\n",
    "    \n",
    "    def __init__(self, corpus):\n",
    "        \n",
    "        self.corpus = list(corpus['text'])\n",
    "        self.tfidfmat = None\n",
    "        self.n_docs = corpus.shape[0]\n",
    "        self.tfmat = None\n",
    "        self.idfvec = None\n",
    "        self.word_indices = {}\n",
    "        self.doc_indices = {}\n",
    "        \n",
    "        \n",
    "    def gen_mats(self):\n",
    "        \n",
    "        count_wor = 0\n",
    "        for doc in self.corpus:\n",
    "            for word in doc.strip().split():\n",
    "                if(word not in self.word_indices.keys()):\n",
    "                    self.word_indices[word] = count_wor\n",
    "                    count_wor += 1\n",
    "                else:\n",
    "                    pass\n",
    "                \n",
    "        self.n_words = len(self.word_indices.keys())\n",
    "        self.tfmat = np.zeros((self.n_words, self.n_docs))\n",
    "        self.idfvec = np.zeros((self.n_words))\n",
    "        self.tfidfmat = np.zeros((self.n_words, self.n_docs))\n",
    "#         print('Done 1')\n",
    "        for i in range(len(self.corpus)):\n",
    "            doc = self.corpus[i]\n",
    "            for word in doc.strip().split():\n",
    "                index = self.word_indices[word]\n",
    "                self.tfmat[index, i] += 1\n",
    "                \n",
    "        self.tfmat = self.tfmat/np.sum(self.tfmat, axis = 0)\n",
    "        \n",
    "        dft = np.sum(1*(self.tfmat > 0), axis = 1)\n",
    "        self.idfvec = np.log(np.divide(self.n_docs, dft))\n",
    "        \n",
    "        self.tfidfmat = np.multiply(self.tfmat,self.idfvec.reshape([-1,1]))"
   ]
  },
  {
   "cell_type": "code",
   "execution_count": 27,
   "metadata": {},
   "outputs": [],
   "source": [
    "model = tfidf(corpus.iloc[0:500])"
   ]
  },
  {
   "cell_type": "code",
   "execution_count": 28,
   "metadata": {},
   "outputs": [],
   "source": [
    "model.gen_mats()"
   ]
  },
  {
   "cell_type": "code",
   "execution_count": 29,
   "metadata": {},
   "outputs": [
    {
     "data": {
      "text/plain": [
       "6882"
      ]
     },
     "execution_count": 29,
     "metadata": {},
     "output_type": "execute_result"
    }
   ],
   "source": [
    "model.n_words"
   ]
  },
  {
   "cell_type": "code",
   "execution_count": 32,
   "metadata": {},
   "outputs": [
    {
     "data": {
      "text/plain": [
       "(6882, 500)"
      ]
     },
     "execution_count": 32,
     "metadata": {},
     "output_type": "execute_result"
    }
   ],
   "source": [
    "model.tfidfmat.shape"
   ]
  },
  {
   "cell_type": "code",
   "execution_count": 33,
   "metadata": {},
   "outputs": [],
   "source": [
    "X = model.tfidfmat.T"
   ]
  },
  {
   "cell_type": "code",
   "execution_count": 35,
   "metadata": {},
   "outputs": [
    {
     "data": {
      "text/plain": [
       "(500, 6882)"
      ]
     },
     "execution_count": 35,
     "metadata": {},
     "output_type": "execute_result"
    }
   ],
   "source": [
    "X.shape"
   ]
  },
  {
   "cell_type": "code",
   "execution_count": 82,
   "metadata": {},
   "outputs": [],
   "source": [
    "# we will plot these 500 documents and see the plots but first we need tsne\n",
    "from sklearn.manifold import TSNE as tsne\n",
    "from sklearn.decomposition import PCA"
   ]
  },
  {
   "cell_type": "code",
   "execution_count": 117,
   "metadata": {},
   "outputs": [],
   "source": [
    "reductor = tsne(n_components = 2)"
   ]
  },
  {
   "cell_type": "code",
   "execution_count": 118,
   "metadata": {},
   "outputs": [
    {
     "data": {
      "text/plain": [
       "<matplotlib.collections.PathCollection at 0x7fba46d52d68>"
      ]
     },
     "execution_count": 118,
     "metadata": {},
     "output_type": "execute_result"
    },
    {
     "data": {
      "image/png": "[encoded data removed]",
      "text/plain": [
       "<Figure size 432x288 with 1 Axes>"
      ]
     },
     "metadata": {
      "needs_background": "light"
     },
     "output_type": "display_data"
    }
   ],
   "source": [
    "X_reduced  = reductor.fit_transform(X)\n",
    "plt.scatter(X_reduced[:,0], X_reduced[:,1])"
   ]
  },
  {
   "cell_type": "code",
   "execution_count": 119,
   "metadata": {},
   "outputs": [],
   "source": [
    "from sklearn.feature_extraction.text import TfidfVectorizer as tfidf"
   ]
  },
  {
   "cell_type": "code",
   "execution_count": 120,
   "metadata": {},
   "outputs": [],
   "source": [
    "model_sk = tfidf()"
   ]
  },
  {
   "cell_type": "code",
   "execution_count": 121,
   "metadata": {},
   "outputs": [],
   "source": [
    "X_sk = model_sk.fit_transform(list(corpus.iloc[0:500]['text'])).todense()"
   ]
  },
  {
   "cell_type": "code",
   "execution_count": 122,
   "metadata": {},
   "outputs": [
    {
     "data": {
      "text/plain": [
       "<matplotlib.collections.PathCollection at 0x7fba46a3fa90>"
      ]
     },
     "execution_count": 122,
     "metadata": {},
     "output_type": "execute_result"
    },
    {
     "data": {
      "image/png": "[encoded data removed]",
      "text/plain": [
       "<Figure size 432x288 with 1 Axes>"
      ]
     },
     "metadata": {
      "needs_background": "light"
     },
     "output_type": "display_data"
    }
   ],
   "source": [
    "X_reduced  = reductor.fit_transform(X_sk)\n",
    "plt.scatter(X_reduced[:,0], X_reduced[:,1])"
   ]
  },
  {
   "cell_type": "markdown",
   "metadata": {},
   "source": []
  }
 ],
 "metadata": {
  "kernelspec": {
   "display_name": "Python 3",
   "language": "python",
   "name": "python3"
  },
  "language_info": {
   "codemirror_mode": {
    "name": "ipython",
    "version": 3
   },
   "file_extension": ".py",
   "mimetype": "text/x-python",
   "name": "python",
   "nbconvert_exporter": "python",
   "pygments_lexer": "ipython3",
   "version": "3.6.6"
  }
 },
 "nbformat": 4,
 "nbformat_minor": 2
}
