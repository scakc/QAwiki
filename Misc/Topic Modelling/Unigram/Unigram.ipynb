{
 "cells": [
  {
   "cell_type": "code",
   "execution_count": 1,
   "metadata": {},
   "outputs": [],
   "source": [
    "import numpy as np\n",
    "import matplotlib.pyplot as plt\n",
    "import os\n",
    "import re\n",
    "import pandas as pd\n",
    "import string\n",
    "import nltk\n",
    "from nltk.corpus import stopwords\n",
    "from nltk.stem import WordNetLemmatizer as WNL\n",
    "%matplotlib inline"
   ]
  },
  {
   "cell_type": "code",
   "execution_count": 2,
   "metadata": {},
   "outputs": [
    {
     "data": {
      "text/plain": [
       "['stackoverflow-data-idf.json',\n",
       " 'stackoverflow-test.json',\n",
       " 'TF-IDF',\n",
       " 'train_corpus',\n",
       " 'Unigram']"
      ]
     },
     "execution_count": 2,
     "metadata": {},
     "output_type": "execute_result"
    }
   ],
   "source": [
    "# Defining data directory\n",
    "data_dir = os.getcwd() + '/../'\n",
    "# Check in contents of current dir are same as expected\n",
    "os.listdir(data_dir)"
   ]
  },
  {
   "cell_type": "code",
   "execution_count": 3,
   "metadata": {},
   "outputs": [],
   "source": [
    "data = pd.read_csv(data_dir + 'train_corpus')['text']"
   ]
  },
  {
   "cell_type": "code",
   "execution_count": 4,
   "metadata": {},
   "outputs": [
    {
     "data": {
      "text/plain": [
       "0    serialize private struct can it be do i have p...\n",
       "1    how do i prevent float right content from over...\n",
       "2    gradle command line i m try to run shell scrip...\n",
       "3    loop variable as parameter in asynchronous fun...\n",
       "4    canot get href value hi i need to valid href b...\n",
       "Name: text, dtype: object"
      ]
     },
     "execution_count": 4,
     "metadata": {},
     "output_type": "execute_result"
    }
   ],
   "source": [
    "data.head()"
   ]
  },
  {
   "cell_type": "code",
   "execution_count": 18,
   "metadata": {},
   "outputs": [],
   "source": [
    "class vocab:\n",
    "    \n",
    "    def __init__(self, corpus):\n",
    "        \"\"\"\n",
    "        Corpus : list of docs\n",
    "        \"\"\"\n",
    "        self.dictionary = {}\n",
    "        self.vocab_size = 0\n",
    "        self.make_vocab(corpus)\n",
    "        self.inv_dictionary = {v: k for k, v in self.dictionary.items()}\n",
    "    \n",
    "    def make_vocab(self,corpus):\n",
    "        \n",
    "        count = 0\n",
    "        for doc in corpus:\n",
    "            for word in doc.strip().split():\n",
    "                if(word in self.dictionary.keys()):\n",
    "                    pass\n",
    "                else:\n",
    "                    self.dictionary[word] = count\n",
    "                    count += 1\n",
    "        \n",
    "        self.vocab_size = count\n",
    "        assert(len(self.dictionary.keys()) == count), \"Wrong Number of words added\"\n",
    "        \n",
    "    def get_index(word):\n",
    "        return self.dictionary[word]\n",
    "    \n",
    "    def get_word(index):\n",
    "        return self.inv_dictionary[index]"
   ]
  },
  {
   "cell_type": "code",
   "execution_count": 19,
   "metadata": {},
   "outputs": [],
   "source": [
    "myDict = vocab(list(data.iloc[0:500].values))"
   ]
  },
  {
   "cell_type": "code",
   "execution_count": 20,
   "metadata": {},
   "outputs": [
    {
     "data": {
      "text/plain": [
       "6882"
      ]
     },
     "execution_count": 20,
     "metadata": {},
     "output_type": "execute_result"
    }
   ],
   "source": [
    "myDict.vocab_size"
   ]
  },
  {
   "cell_type": "code",
   "execution_count": 8,
   "metadata": {},
   "outputs": [],
   "source": [
    "class unigram:\n",
    "    \n",
    "    def __init__(self,vocab):\n",
    "        \"\"\"\n",
    "        vocab : a dictionary containing all the words and corresponding indices\n",
    "        k : smoothing parameter for beta matrix\n",
    "        \"\"\"\n",
    "        self.vocab = vocab\n",
    "        self.N = vocab.vocab_size\n",
    "        self.probs = np.zeros((self.N))\n",
    "        self.inv_vocab = {v: k for k, v in self.vocab.dictionary.items()}\n",
    "        \n",
    "    def train(self,corpus):\n",
    "        \"\"\"\n",
    "        Corpus : list of docs\n",
    "        \"\"\"\n",
    "        for doc in corpus:\n",
    "            for word in doc.strip().split():\n",
    "                self.probs[self.vocab.dictionary[word]] += 1\n",
    "        \n",
    "        self.mod_c = np.sum(self.probs)\n",
    "        self.probs = (self.probs + 1)/(self.mod_c + self.N)\n",
    "        \n",
    "    def generate(self, num):\n",
    "        txt = ''\n",
    "        for n in range(num):\n",
    "            txt += self.inv_vocab[np.random.choice(np.arange(self.N), p = self.probs)] + \" \"\n",
    "        return txt\n",
    "    \n",
    "    \n",
    "    def calc_perplexity(self, corpus):\n",
    "        \n",
    "        log_pd_sum = 0\n",
    "        count = 0\n",
    "        for document in corpus:\n",
    "            for word in document.strip().split():\n",
    "                if word in self.vocab.dictionary.keys():\n",
    "                    index = self.vocab.dictionary[word]\n",
    "                    p_w_n = self.probs[index]\n",
    "                    pd = p_w_n\n",
    "                else:\n",
    "                    pd = 1/(self.mod_c + self.N + 1)\n",
    "                    \n",
    "                count += 1\n",
    "                log_pd_sum += np.log(pd)\n",
    "        \n",
    "        perp = np.exp(-log_pd_sum/count)\n",
    "            \n",
    "        return perp "
   ]
  },
  {
   "cell_type": "code",
   "execution_count": 9,
   "metadata": {},
   "outputs": [],
   "source": [
    "model = unigram(myDict)"
   ]
  },
  {
   "cell_type": "code",
   "execution_count": 10,
   "metadata": {},
   "outputs": [],
   "source": [
    "model.train(list(data.iloc[0:400].values))"
   ]
  },
  {
   "cell_type": "code",
   "execution_count": 11,
   "metadata": {},
   "outputs": [
    {
     "data": {
      "text/plain": [
       "'id in from reactive skip new lt data fetch to can carousel numberformat row not qsales type want asp grid on px gt dir alert getresult wlan to how username '"
      ]
     },
     "execution_count": 11,
     "metadata": {},
     "output_type": "execute_result"
    }
   ],
   "source": [
    "model.generate(30)"
   ]
  },
  {
   "cell_type": "code",
   "execution_count": 14,
   "metadata": {},
   "outputs": [],
   "source": [
    "# perplexity vs number of documents\n",
    "\n",
    "vec = []\n",
    "for i in range(1,100):\n",
    "    v = model.calc_perplexity(list(data.iloc[2500:2500+i].values))\n",
    "    vec.append(v)"
   ]
  },
  {
   "cell_type": "code",
   "execution_count": 15,
   "metadata": {},
   "outputs": [
    {
     "data": {
      "text/plain": [
       "[<matplotlib.lines.Line2D at 0x7f3a8dee69b0>]"
      ]
     },
     "execution_count": 15,
     "metadata": {},
     "output_type": "execute_result"
    },
    {
     "data": {
      "image/png": "[encoded data removed]",
      "text/plain": [
       "<Figure size 432x288 with 1 Axes>"
      ]
     },
     "metadata": {
      "needs_background": "light"
     },
     "output_type": "display_data"
    }
   ],
   "source": [
    "plt.plot(vec)"
   ]
  },
  {
   "cell_type": "code",
   "execution_count": null,
   "metadata": {},
   "outputs": [],
   "source": []
  }
 ],
 "metadata": {
  "kernelspec": {
   "display_name": "Python 3",
   "language": "python",
   "name": "python3"
  },
  "language_info": {
   "codemirror_mode": {
    "name": "ipython",
    "version": 3
   },
   "file_extension": ".py",
   "mimetype": "text/x-python",
   "name": "python",
   "nbconvert_exporter": "python",
   "pygments_lexer": "ipython3",
   "version": "3.6.6"
  }
 },
 "nbformat": 4,
 "nbformat_minor": 2
}
