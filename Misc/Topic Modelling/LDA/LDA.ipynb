{
 "cells": [
  {
   "cell_type": "code",
   "execution_count": 1,
   "metadata": {},
   "outputs": [],
   "source": [
    "import numpy as np\n",
    "import matplotlib.pyplot as plt\n",
    "import os\n",
    "import re\n",
    "import pandas as pd\n",
    "import string\n",
    "import nltk\n",
    "from nltk.corpus import stopwords\n",
    "from nltk.stem import WordNetLemmatizer as WNL\n",
    "import scipy\n",
    "from IPython.display import clear_output as clr\n",
    "%matplotlib inline"
   ]
  },
  {
   "cell_type": "code",
   "execution_count": 2,
   "metadata": {},
   "outputs": [
    {
     "data": {
      "text/plain": [
       "['.ipynb_checkpoints',\n",
       " '20news-18828.tar.gz',\n",
       " 'corpuses',\n",
       " 'LDA',\n",
       " 'stackoverflow-data-idf.json',\n",
       " 'stackoverflow-test.json',\n",
       " 'TF-IDF',\n",
       " 'train_corpus',\n",
       " 'Unigram']"
      ]
     },
     "execution_count": 2,
     "metadata": {},
     "output_type": "execute_result"
    }
   ],
   "source": [
    "# Defining data directory\n",
    "data_dir = os.getcwd() + '/../'\n",
    "# Check in contents of current dir are same as expected\n",
    "os.listdir(data_dir)"
   ]
  },
  {
   "cell_type": "code",
   "execution_count": 276,
   "metadata": {},
   "outputs": [],
   "source": [
    "import string\n",
    "import re\n",
    "import nltk\n",
    "from nltk.corpus import stopwords\n",
    "from nltk.stem import WordNetLemmatizer as WNL"
   ]
  },
  {
   "cell_type": "code",
   "execution_count": 277,
   "metadata": {},
   "outputs": [],
   "source": [
    "class preprocessor:\n",
    "    \n",
    "    def __init__(self):\n",
    "        # word lemmatizer\n",
    "        self.articles = 'a|an|and|the'\n",
    "        self.lemmatizer = WNL()\n",
    "        self.punctuations = string.punctuation\n",
    "        self.translator = str.maketrans(string.punctuation, ' '*len(self.punctuations))\n",
    "        \n",
    "    def normalize_text(self, s):\n",
    "        lower_s = self.lower(s)\n",
    "        rem_p_s = self.remove_punc(lower_s)\n",
    "        rem_a_s = self.remove_articles(rem_p_s)\n",
    "        space_s = self.white_space_fix(rem_a_s)\n",
    "        lemma_s = self.lemmatize(space_s)\n",
    "        return lemma_s\n",
    "        \n",
    "    def lemmatize(self, txt):\n",
    "        lemmatizer = self.lemmatizer\n",
    "        return ' '.join(lemmatizer.lemmatize(lemmatizer.lemmatize(word, pos = 'v'), pos = 'a') for word in txt.split())\n",
    "\n",
    "    def remove_articles(self, text):\n",
    "        return re.sub('\\s+('+self.articles+')(\\s+)', ' ',text)\n",
    "\n",
    "    def white_space_fix(self, text):\n",
    "        return ' '.join(text.split())\n",
    "\n",
    "    def remove_punc(self, text):\n",
    "        return text.translate(self.translator)\n",
    "\n",
    "    def lower(self, text):\n",
    "        return text.lower()"
   ]
  },
  {
   "cell_type": "code",
   "execution_count": 278,
   "metadata": {},
   "outputs": [],
   "source": [
    "processor = preprocessor()"
   ]
  },
  {
   "cell_type": "code",
   "execution_count": 279,
   "metadata": {},
   "outputs": [],
   "source": [
    "from nltk.corpus import brown\n",
    " \n",
    "data = []\n",
    " \n",
    "for fileid in brown.fileids():\n",
    "    document = ' '.join(brown.words(fileid))\n",
    "    data.append(processor.normalize_text(document))\n",
    "#     if(len(data) >= 5):\n",
    "#         break"
   ]
  },
  {
   "cell_type": "code",
   "execution_count": 280,
   "metadata": {},
   "outputs": [
    {
     "data": {
      "text/plain": [
       "500"
      ]
     },
     "execution_count": 280,
     "metadata": {},
     "output_type": "execute_result"
    }
   ],
   "source": [
    "len(data)"
   ]
  },
  {
   "cell_type": "code",
   "execution_count": 281,
   "metadata": {},
   "outputs": [],
   "source": [
    "class vocab:\n",
    "    \n",
    "    def __init__(self, corpus):\n",
    "        \"\"\"\n",
    "        Corpus : list of docs\n",
    "        \"\"\"\n",
    "        self.dictionary = {}\n",
    "        self.vocab_size = 0\n",
    "        self.make_vocab(corpus)\n",
    "        self.inv_dictionary = {v: k for k, v in self.dictionary.items()}\n",
    "    \n",
    "    def make_vocab(self,corpus):\n",
    "        \n",
    "        count = 0\n",
    "        for doc in corpus:\n",
    "            for word in doc.strip().split():\n",
    "                if(word in self.dictionary.keys()):\n",
    "                    pass\n",
    "                else:\n",
    "                    self.dictionary[word] = count\n",
    "                    count += 1\n",
    "        \n",
    "        self.vocab_size = count\n",
    "        assert(len(self.dictionary.keys()) == count), \"Wrong Number of words added\"\n",
    "        \n",
    "    def get_index(self,word):\n",
    "        if(word in self.dictionary.keys()):\n",
    "            return self.dictionary[word]\n",
    "        else:\n",
    "            return -1\n",
    "    \n",
    "    def get_word(self,index):\n",
    "        if(index in self.inv_dictionary.keys()):\n",
    "            return self.inv_dictionary[index]\n",
    "        else:\n",
    "            return \" \""
   ]
  },
  {
   "cell_type": "code",
   "execution_count": 282,
   "metadata": {},
   "outputs": [],
   "source": [
    "myDict = vocab(data)"
   ]
  },
  {
   "cell_type": "code",
   "execution_count": 283,
   "metadata": {},
   "outputs": [
    {
     "data": {
      "text/plain": [
       "34110"
      ]
     },
     "execution_count": 283,
     "metadata": {},
     "output_type": "execute_result"
    }
   ],
   "source": [
    "myDict.vocab_size"
   ]
  },
  {
   "cell_type": "code",
   "execution_count": 417,
   "metadata": {},
   "outputs": [],
   "source": [
    "def elbo_doc(alpha, beta, phi, gamma, W):\n",
    "    \"\"\"\n",
    "    alpha : Kx1 vec\n",
    "    beta : KxV mat\n",
    "    phi : NxK mat\n",
    "    W : NxV mat\n",
    "    \"\"\"\n",
    "    K, V = beta.shape\n",
    "    \n",
    "    gamma_diff = (scipy.special.digamma(gamma) - scipy.special.digamma(np.sum(gamma)))\n",
    "    phi_w = np.dot(phi.T, W)\n",
    "    \n",
    "    loss = 0\n",
    "    loss += scipy.special.loggamma(np.sum(alpha))\n",
    "    loss -= np.sum(scipy.special.loggamma(alpha))\n",
    "    loss += np.sum((alpha - 1)*gamma_diff)\n",
    "    loss += np.sum(phi.T*gamma_diff)\n",
    "    loss += np.sum(phi_w * np.log(beta))\n",
    "    loss -= scipy.special.loggamma(np.sum(gamma))\n",
    "    loss += np.sum(scipy.special.loggamma(gamma))\n",
    "    loss -= np.sum((gamma - 1)*gamma_diff)\n",
    "    loss -= np.sum(phi*np.log(phi + 10e-12))\n",
    "    \n",
    "    return loss"
   ]
  },
  {
   "cell_type": "code",
   "execution_count": 461,
   "metadata": {},
   "outputs": [],
   "source": [
    "class LDA:\n",
    "    \n",
    "    def __init__(self,vocab, K):\n",
    "        \"\"\"\n",
    "        vocab : a dictionary class containing all the words and corresponding indices\n",
    "        k : smoothing parameter for beta matrix\n",
    "        \"\"\"\n",
    "        self.eps = 10e-8\n",
    "        self.tol = 0.001\n",
    "        self.vocab = vocab\n",
    "        self.V = vocab.vocab_size\n",
    "        self.K = K\n",
    "        self.alpha = np.zeros((self.K, 1)) + np.random.rand()\n",
    "        beta = np.random.rand(self.K, self.V)\n",
    "        beta = beta/(np.sum(beta,  axis = 1).reshape(-1,1) + self.eps)\n",
    "        self.beta = beta\n",
    "        \n",
    "        self.gamma = np.random.rand(self.K , 1)\n",
    "        self.digamma = scipy.special.digamma\n",
    "        self.polygamma = scipy.special.polygamma\n",
    "        self.elbo_loss = []\n",
    "        \n",
    "        \n",
    "    def train(self, corpus, epochs = 1):\n",
    "        \n",
    "        \"\"\"\n",
    "        Corpus : List of documents\n",
    "        epochs : max_number of epochs\n",
    "        \"\"\"\n",
    "        \n",
    "        max_iter_inner = 1000\n",
    "        max_iter_inner_a = 1\n",
    "        \n",
    "        M = len(corpus)\n",
    "        \n",
    "        for epoch in range(epochs):\n",
    "            \n",
    "            \n",
    "            elbo_net = 0\n",
    "            \n",
    "            beta = np.zeros((self.K, self.V))\n",
    "            grad_alpha = 0*self.alpha\n",
    "            hesn_alpha = np.zeros((self.K, self.K))\n",
    "            print(\"Initialized\")\n",
    "            count = 0\n",
    "            \n",
    "            for doc in corpus:\n",
    "                clr(wait = True)\n",
    "                count += 1\n",
    "                print(\"epoch : \", epoch, \" doc init: \", count)\n",
    "                words = doc.strip().split(\" \")\n",
    "                N = len(words)\n",
    "                phi = np.zeros((N, self.K)) + 1/self.K\n",
    "                gamma = self.alpha + N/self.K\n",
    "                w = np.zeros((N, self.V))\n",
    "                \n",
    "\n",
    "                beta_d = np.zeros((self.K, N))\n",
    "                for j, word in enumerate(words):\n",
    "                    index = self.vocab.get_index(word)\n",
    "                    beta_v = (self.beta[:,index].reshape(self.K))\n",
    "                    beta_d[:,j] = beta_v\n",
    "                    w[j, index] = 1\n",
    "                \n",
    "                new_norm = self.norm(gamma)\n",
    "                old_norm = new_norm  + 20\n",
    "                diff = 20\n",
    "                count_inner = 0\n",
    "                while(diff > self.tol and count_inner < max_iter_inner):\n",
    "                    \n",
    "                    phi = self.calc_phi(beta_d, gamma).T\n",
    "                    gamma = self.alpha + np.sum(phi , axis = 0).reshape(self.K, 1)\n",
    "                    old_norm = new_norm\n",
    "                    new_norm = self.norm(gamma)\n",
    "                    diff = np.abs(new_norm - old_norm)\n",
    "                    count_inner += 1\n",
    "                    \n",
    "                    if(count_inner == max_iter_inner):\n",
    "                        print('Not converged')\n",
    "\n",
    "\n",
    "                print(\"epoch : \", epoch, \"made gamma and phi converge \", count)\n",
    "                \n",
    "\n",
    "                beta = beta+np.dot(phi.T, w)\n",
    "                \n",
    "                        \n",
    "                print(\"epoch : \", epoch, \"made beta\", count)\n",
    "\n",
    "                \n",
    "                grad_alpha += self.digamma(np.sum(self.alpha)) - self.digamma(self.alpha)\n",
    "                grad_alpha += self.digamma(gamma) - self.digamma(np.sum(gamma))\n",
    "                \n",
    "                elbo_c_doc = elbo_doc(self.alpha, self.beta, phi, gamma, w)\n",
    "                elbo_net += elbo_c_doc\n",
    "\n",
    "                \n",
    "            beta = beta/(np.sum(beta,  axis = 1).reshape(-1,1) + self.eps)\n",
    "           \n",
    "        \n",
    "            alpha = self.alpha\n",
    "            alpha_old = self.norm(alpha)+20\n",
    "            alpha_new = self.norm(alpha)\n",
    "            diff = 10\n",
    "            inner_iter_alpha = 0\n",
    "            while(diff > self.tol and inner_iter_alpha < max_iter_inner_a):\n",
    "                hess_alpha = np.diag(M*scipy.special.polygamma(1,alpha).reshape(-1)) - scipy.special.polygamma(1,np.sum(alpha))\n",
    "                alpha -= np.dot(np.linalg.pinv(hess_alpha + np.eye(hess_alpha.shape[0])*self.eps),grad_alpha.reshape(-1,1))\n",
    "                alpha_old = alpha_new\n",
    "                alpha_new = self.norm(alpha)\n",
    "                inner_iter_alpha += 1\n",
    "                if(inner_iter_alpha == max_iter_inner):\n",
    "                        print('Not converged')\n",
    "\n",
    "\n",
    "            # update params\n",
    "            self.beta = beta\n",
    "            self.gamma = gamma\n",
    "            self.alpha = alpha\n",
    "            \n",
    "            self.elbo_loss.append(elbo_net)\n",
    "            \n",
    "\n",
    "    def calc_phi(self, beta_v, gamma):\n",
    "        phi = np.exp(self.digamma(gamma) - self.digamma(np.sum(gamma))).reshape(self.K,1)\n",
    "        phi = beta_v*phi\n",
    "        phi = phi/(np.sum(phi, axis = 0) + self.eps)\n",
    "        return phi\n",
    "    \n",
    "    def norm(self, a):\n",
    "        sqr = np.square(a)\n",
    "        return np.sqrt(np.sum(sqr))"
   ]
  },
  {
   "cell_type": "code",
   "execution_count": 533,
   "metadata": {},
   "outputs": [],
   "source": [
    "model = LDA(myDict , 20)"
   ]
  },
  {
   "cell_type": "code",
   "execution_count": 534,
   "metadata": {},
   "outputs": [
    {
     "name": "stdout",
     "output_type": "stream",
     "text": [
      "epoch :  4  doc init:  5\n",
      "epoch :  4 made gamma and phi converge  5\n",
      "epoch :  4 made beta 5\n"
     ]
    }
   ],
   "source": [
    "model.train(data[:5], epochs= 5)"
   ]
  },
  {
   "cell_type": "code",
   "execution_count": 577,
   "metadata": {},
   "outputs": [
    {
     "data": {
      "text/plain": [
       "[-93661.86957047437, nan, nan, nan, nan]"
      ]
     },
     "execution_count": 577,
     "metadata": {},
     "output_type": "execute_result"
    }
   ],
   "source": [
    "model.elbo_loss"
   ]
  },
  {
   "cell_type": "code",
   "execution_count": 578,
   "metadata": {},
   "outputs": [
    {
     "data": {
      "image/png": "[encoded data removed]",
      "text/plain": [
       "<Figure size 432x288 with 1 Axes>"
      ]
     },
     "metadata": {
      "needs_background": "light"
     },
     "output_type": "display_data"
    },
    {
     "data": {
      "image/png": "[encoded data removed]",
      "text/plain": [
       "<Figure size 432x288 with 1 Axes>"
      ]
     },
     "metadata": {
      "needs_background": "light"
     },
     "output_type": "display_data"
    }
   ],
   "source": [
    "plt.plot(model.gamma)\n",
    "plt.show()\n",
    "plt.plot(model.alpha)\n",
    "plt.show()"
   ]
  },
  {
   "cell_type": "code",
   "execution_count": 588,
   "metadata": {},
   "outputs": [],
   "source": [
    "indices = np.argsort(model.beta[7])[-10:]"
   ]
  },
  {
   "cell_type": "code",
   "execution_count": 589,
   "metadata": {},
   "outputs": [
    {
     "data": {
      "text/plain": [
       "array([ 118, 1642,    5,   40, 1670,   17,   31,   50,    8,  368])"
      ]
     },
     "execution_count": 589,
     "metadata": {},
     "output_type": "execute_result"
    }
   ],
   "source": [
    "indices"
   ]
  },
  {
   "cell_type": "code",
   "execution_count": 590,
   "metadata": {},
   "outputs": [
    {
     "name": "stdout",
     "output_type": "stream",
     "text": [
      "should\n",
      "track\n",
      "say\n",
      "be\n",
      "mr\n",
      "that\n",
      "have\n",
      "to\n",
      "of\n",
      "he\n"
     ]
    }
   ],
   "source": [
    "for i in indices:\n",
    "    print(myDict.get_word(i))"
   ]
  },
  {
   "cell_type": "code",
   "execution_count": 594,
   "metadata": {},
   "outputs": [
    {
     "data": {
      "image/png": "[encoded data removed]",
      "text/plain": [
       "<Figure size 432x288 with 1 Axes>"
      ]
     },
     "metadata": {
      "needs_background": "light"
     },
     "output_type": "display_data"
    }
   ],
   "source": [
    "plt.plot(model.beta[19][:50])\n",
    "plt.show()"
   ]
  },
  {
   "cell_type": "code",
   "execution_count": 595,
   "metadata": {},
   "outputs": [],
   "source": [
    "class Smooth_LDA:\n",
    "    \n",
    "    def __init__(self,vocab, K):\n",
    "        \"\"\"\n",
    "        vocab : a dictionary class containing all the words and corresponding indices\n",
    "        k : smoothing parameter for beta matrix\n",
    "        \"\"\"\n",
    "        self.eps = 10e-8\n",
    "        self.tol = 0.001\n",
    "        self.vocab = vocab\n",
    "        self.V = vocab.vocab_size\n",
    "        self.K = K\n",
    "        self.alpha = np.zeros((self.K, 1)) + np.random.rand()\n",
    "        beta = np.random.rand(self.K, self.V)\n",
    "        beta = beta/(np.sum(beta,  axis = 1).reshape(-1,1) + self.eps)\n",
    "        self.beta = beta\n",
    "        \n",
    "        self.ita = 1/self.V\n",
    "        self.lamda = self.ita*np.ones((self.K,self.V))\n",
    "        \n",
    "        self.gamma = np.random.rand(self.K , 1)\n",
    "        self.digamma = scipy.special.digamma\n",
    "        self.polygamma = scipy.special.polygamma\n",
    "        self.elbo_loss = []\n",
    "        \n",
    "        \n",
    "    def train(self, corpus, epochs = 1):\n",
    "        \n",
    "        \"\"\"\n",
    "        Corpus : List of documents\n",
    "        epochs : max_number of epochs\n",
    "        \"\"\"\n",
    "        \n",
    "        max_iter_inner = 1000\n",
    "        max_iter_inner_a = 1\n",
    "        \n",
    "        M = len(corpus)\n",
    "        \n",
    "        for epoch in range(epochs):\n",
    "            \n",
    "            beta = np.zeros((self.K, self.V))\n",
    "            grad_alpha = 0*self.alpha\n",
    "            hesn_alpha = np.zeros((self.K, self.K))\n",
    "            print(\"Initialized\")\n",
    "            count = 0\n",
    "            \n",
    "            elbo_net = 0\n",
    "            \n",
    "            for doc in corpus:\n",
    "                clr(wait = True)\n",
    "                count += 1\n",
    "                print(\"epoch : \", epoch, \" doc init: \", count)\n",
    "                words = doc.strip().split(\" \")\n",
    "                N = len(words)\n",
    "                phi = np.zeros((N, self.K)) + 1/self.K\n",
    "                gamma = self.alpha + N/self.K\n",
    "                w = np.zeros((N, self.V))\n",
    "                \n",
    "                beta_d = np.zeros((self.K, N))\n",
    "                for j, word in enumerate(words):\n",
    "                    index = self.vocab.get_index(word)\n",
    "                    beta_v = (self.beta[:,index].reshape(self.K))\n",
    "                    beta_d[:,j] = beta_v\n",
    "                    w[j, index] = 1\n",
    "                \n",
    "                new_norm = self.norm(gamma)\n",
    "                old_norm = new_norm  + 20\n",
    "                diff = 20\n",
    "                count_inner = 0\n",
    "                while(diff > self.tol and count_inner < max_iter_inner):\n",
    "                    \n",
    "                    phi = self.calc_phi(beta_d, gamma).T\n",
    "                    gamma = self.alpha + np.sum(phi , axis = 0).reshape(self.K, 1)\n",
    "                    old_norm = new_norm\n",
    "                    new_norm = self.norm(gamma)\n",
    "                    diff = np.abs(new_norm - old_norm)\n",
    "                    count_inner += 1\n",
    "                    if(count_inner == max_iter_inner):\n",
    "                        print('Not converged')\n",
    "\n",
    "\n",
    "                print(\"epoch : \", epoch, \"made gamma and phi converge \", count)\n",
    "                beta = beta+np.dot(phi.T, w)\n",
    "                \n",
    "                        \n",
    "                print(\"epoch : \", epoch, \"made beta\", count)\n",
    "\n",
    "                \n",
    "                grad_alpha += self.digamma(np.sum(self.alpha)) - self.digamma(self.alpha)\n",
    "                grad_alpha += self.digamma(gamma) - self.digamma(np.sum(gamma))\n",
    "                \n",
    "                elbo_c_doc = elbo_doc(self.alpha, self.beta, phi, gamma, w)\n",
    "                elbo_net += elbo_c_doc\n",
    "                \n",
    "\n",
    "            lamda = self.ita + beta\n",
    "            beta = np.exp(self.digamma(lamda)- self.digamma(np.sum(lamda,axis = 1)).reshape(-1,1))\n",
    "            beta = beta/(np.sum(beta,  axis = 1).reshape(-1,1) + self.eps).reshape(-1,1)\n",
    "            \n",
    "            alpha = self.alpha\n",
    "            alpha_old = self.norm(alpha)+20\n",
    "            alpha_new = self.norm(alpha)\n",
    "            diff = 10\n",
    "            inner_iter_alpha = 0\n",
    "            while(diff > self.tol and inner_iter_alpha < max_iter_inner_a):\n",
    "                hess_alpha = np.diag(M*scipy.special.polygamma(1,alpha).reshape(-1)) - scipy.special.polygamma(1,np.sum(alpha))\n",
    "                alpha -= np.dot(np.linalg.inv(hess_alpha + np.eye(hess_alpha.shape[0])*self.eps),grad_alpha.reshape(-1,1))\n",
    "                alpha_old = alpha_new\n",
    "                alpha_new = self.norm(alpha)\n",
    "                inner_iter_alpha += 1\n",
    "                if(inner_iter_alpha == max_iter_inner):\n",
    "                        print('Not converged')\n",
    "                \n",
    "            \n",
    "            # update params\n",
    "            self.beta = beta\n",
    "            self.gamma = gamma\n",
    "            self.alpha = alpha\n",
    "            self.lamda = lamda\n",
    "            self.elbo_loss.append(elbo_net)\n",
    "            \n",
    "\n",
    "    def calc_phi(self, beta_v, gamma):\n",
    "        phi = np.exp(self.digamma(gamma) - self.digamma(np.sum(gamma))).reshape(self.K,1)\n",
    "        phi = beta_v*phi\n",
    "        phi = phi/(np.sum(phi, axis = 0) + self.eps)\n",
    "        return phi\n",
    "    \n",
    "    def norm(self, a):\n",
    "        sqr = np.square(a)\n",
    "        return np.sqrt(np.sum(sqr))"
   ]
  },
  {
   "cell_type": "code",
   "execution_count": 574,
   "metadata": {},
   "outputs": [],
   "source": [
    "s_model = Smooth_LDA(myDict , 50)"
   ]
  },
  {
   "cell_type": "code",
   "execution_count": 575,
   "metadata": {},
   "outputs": [
    {
     "name": "stdout",
     "output_type": "stream",
     "text": [
      "epoch :  4  doc init:  500\n",
      "epoch :  4 made gamma and phi converge  500\n",
      "epoch :  4 made beta 500\n"
     ]
    }
   ],
   "source": [
    "s_model.train(data, epochs= 5)"
   ]
  },
  {
   "cell_type": "code",
   "execution_count": 624,
   "metadata": {},
   "outputs": [],
   "source": [
    "indices = np.argsort(s_model.beta[6])[0:10]"
   ]
  },
  {
   "cell_type": "code",
   "execution_count": 625,
   "metadata": {},
   "outputs": [
    {
     "name": "stdout",
     "output_type": "stream",
     "text": [
      "nutmeg\n",
      "depiction\n",
      "litz\n",
      "ching\n",
      "oracles\n",
      "intensities\n",
      "rotations\n",
      "serial\n",
      "perceptual\n",
      "urgencies\n"
     ]
    }
   ],
   "source": [
    "for i in indices:\n",
    "    print(myDict.get_word(i))"
   ]
  },
  {
   "cell_type": "code",
   "execution_count": 611,
   "metadata": {},
   "outputs": [
    {
     "data": {
      "image/png": "[encoded data removed]",
      "text/plain": [
       "<Figure size 432x288 with 1 Axes>"
      ]
     },
     "metadata": {
      "needs_background": "light"
     },
     "output_type": "display_data"
    }
   ],
   "source": [
    "plt.plot(s_model.beta[7])\n",
    "plt.show()"
   ]
  },
  {
   "cell_type": "code",
   "execution_count": 603,
   "metadata": {},
   "outputs": [
    {
     "data": {
      "text/plain": [
       "[<matplotlib.lines.Line2D at 0x7fceaffc66a0>]"
      ]
     },
     "execution_count": 603,
     "metadata": {},
     "output_type": "execute_result"
    },
    {
     "data": {
      "image/png": "[encoded data removed]",
      "text/plain": [
       "<Figure size 432x288 with 1 Axes>"
      ]
     },
     "metadata": {
      "needs_background": "light"
     },
     "output_type": "display_data"
    }
   ],
   "source": [
    "plt.plot(s_model.gamma)"
   ]
  },
  {
   "cell_type": "code",
   "execution_count": 600,
   "metadata": {},
   "outputs": [
    {
     "data": {
      "text/plain": [
       "[<matplotlib.lines.Line2D at 0x7fceefe6a4a8>]"
      ]
     },
     "execution_count": 600,
     "metadata": {},
     "output_type": "execute_result"
    },
    {
     "data": {
      "image/png": "[encoded data removed]",
      "text/plain": [
       "<Figure size 432x288 with 1 Axes>"
      ]
     },
     "metadata": {
      "needs_background": "light"
     },
     "output_type": "display_data"
    }
   ],
   "source": [
    "plt.plot(s_model.alpha)"
   ]
  },
  {
   "cell_type": "code",
   "execution_count": 631,
   "metadata": {},
   "outputs": [
    {
     "data": {
      "text/plain": [
       "[<matplotlib.lines.Line2D at 0x7fceafdceda0>]"
      ]
     },
     "execution_count": 631,
     "metadata": {},
     "output_type": "execute_result"
    },
    {
     "data": {
      "image/png": "[encoded data removed]",
      "text/plain": [
       "<Figure size 432x288 with 1 Axes>"
      ]
     },
     "metadata": {
      "needs_background": "light"
     },
     "output_type": "display_data"
    }
   ],
   "source": [
    "plt.plot(s_model.gamma)"
   ]
  },
  {
   "cell_type": "code",
   "execution_count": 372,
   "metadata": {},
   "outputs": [],
   "source": [
    "from sklearn.decomposition import LatentDirichletAllocation as sk_LDA"
   ]
  },
  {
   "cell_type": "code",
   "execution_count": 375,
   "metadata": {},
   "outputs": [],
   "source": [
    "model_sk = sk_LDA(n_components=5)"
   ]
  },
  {
   "cell_type": "code",
   "execution_count": 401,
   "metadata": {},
   "outputs": [],
   "source": [
    "w_arr = np.array([myDict.get_index(word) for doc in data for word in doc.strip().split(\" \")[:300]]).reshape(-1,500)"
   ]
  },
  {
   "cell_type": "code",
   "execution_count": 402,
   "metadata": {},
   "outputs": [
    {
     "data": {
      "text/plain": [
       "(300, 500)"
      ]
     },
     "execution_count": 402,
     "metadata": {},
     "output_type": "execute_result"
    }
   ],
   "source": [
    "w_arr.shape"
   ]
  },
  {
   "cell_type": "code",
   "execution_count": 403,
   "metadata": {},
   "outputs": [
    {
     "data": {
      "text/plain": [
       "LatentDirichletAllocation(batch_size=128, doc_topic_prior=None,\n",
       "             evaluate_every=-1, learning_decay=0.7,\n",
       "             learning_method='batch', learning_offset=10.0,\n",
       "             max_doc_update_iter=100, max_iter=10, mean_change_tol=0.001,\n",
       "             n_components=5, n_jobs=None, n_topics=None, perp_tol=0.1,\n",
       "             random_state=None, topic_word_prior=None,\n",
       "             total_samples=1000000.0, verbose=0)"
      ]
     },
     "execution_count": 403,
     "metadata": {},
     "output_type": "execute_result"
    }
   ],
   "source": [
    "model_sk.fit(w_arr)"
   ]
  },
  {
   "cell_type": "code",
   "execution_count": 404,
   "metadata": {},
   "outputs": [],
   "source": [
    "transformed = model_sk.transform(w_arr)"
   ]
  },
  {
   "cell_type": "code",
   "execution_count": 405,
   "metadata": {},
   "outputs": [
    {
     "data": {
      "text/plain": [
       "(300, 5)"
      ]
     },
     "execution_count": 405,
     "metadata": {},
     "output_type": "execute_result"
    }
   ],
   "source": [
    "transformed.shape"
   ]
  },
  {
   "cell_type": "code",
   "execution_count": 408,
   "metadata": {},
   "outputs": [
    {
     "data": {
      "text/plain": [
       "[<matplotlib.lines.Line2D at 0x7fceaf4e9be0>]"
      ]
     },
     "execution_count": 408,
     "metadata": {},
     "output_type": "execute_result"
    },
    {
     "data": {
      "image/png": "[encoded data removed]",
      "text/plain": [
       "<Figure size 432x288 with 1 Axes>"
      ]
     },
     "metadata": {
      "needs_background": "light"
     },
     "output_type": "display_data"
    }
   ],
   "source": [
    "plt.plot(transformed[8])"
   ]
  },
  {
   "cell_type": "code",
   "execution_count": null,
   "metadata": {},
   "outputs": [],
   "source": []
  }
 ],
 "metadata": {
  "kernelspec": {
   "display_name": "Python 3",
   "language": "python",
   "name": "python3"
  },
  "language_info": {
   "codemirror_mode": {
    "name": "ipython",
    "version": 3
   },
   "file_extension": ".py",
   "mimetype": "text/x-python",
   "name": "python",
   "nbconvert_exporter": "python",
   "pygments_lexer": "ipython3",
   "version": "3.6.6"
  }
 },
 "nbformat": 4,
 "nbformat_minor": 2
}
