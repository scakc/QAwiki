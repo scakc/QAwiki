{
 "cells": [
  {
   "cell_type": "code",
   "execution_count": 1,
   "metadata": {},
   "outputs": [],
   "source": [
    "import numpy as np\n",
    "import matplotlib.pyplot as plt\n",
    "import os\n",
    "import re\n",
    "import pandas as pd\n",
    "import string\n",
    "import nltk\n",
    "from nltk.corpus import stopwords\n",
    "from nltk.stem import WordNetLemmatizer as WNL\n",
    "import scipy\n",
    "from IPython.display import clear_output as clr\n",
    "%matplotlib inline"
   ]
  },
  {
   "cell_type": "code",
   "execution_count": 2,
   "metadata": {},
   "outputs": [
    {
     "data": {
      "text/plain": [
       "['.ipynb_checkpoints',\n",
       " '20news-18828.tar.gz',\n",
       " 'corpuses',\n",
       " 'LDA',\n",
       " 'NMF',\n",
       " 'stackoverflow-data-idf.json',\n",
       " 'stackoverflow-test.json',\n",
       " 'TF-IDF',\n",
       " 'train_corpus',\n",
       " 'Unigram']"
      ]
     },
     "execution_count": 2,
     "metadata": {},
     "output_type": "execute_result"
    }
   ],
   "source": [
    "# Defining data directory\n",
    "data_dir = os.getcwd() + '/../'\n",
    "# Check in contents of current dir are same as expected\n",
    "os.listdir(data_dir)"
   ]
  },
  {
   "cell_type": "code",
   "execution_count": 3,
   "metadata": {},
   "outputs": [],
   "source": [
    "import string\n",
    "import re\n",
    "import nltk\n",
    "from nltk.corpus import stopwords\n",
    "from nltk.stem import WordNetLemmatizer as WNL"
   ]
  },
  {
   "cell_type": "code",
   "execution_count": 4,
   "metadata": {},
   "outputs": [],
   "source": [
    "class preprocessor:\n",
    "    \n",
    "    def __init__(self):\n",
    "        # word lemmatizer\n",
    "        self.articles = 'a|an|and|the'\n",
    "        self.lemmatizer = WNL()\n",
    "        self.punctuations = string.punctuation\n",
    "        self.translator = str.maketrans(string.punctuation, ' '*len(self.punctuations))\n",
    "        \n",
    "    def normalize_text(self, s):\n",
    "        lower_s = self.lower(s)\n",
    "        rem_p_s = self.remove_punc(lower_s)\n",
    "        rem_a_s = self.remove_articles(rem_p_s)\n",
    "        space_s = self.white_space_fix(rem_a_s)\n",
    "        lemma_s = self.lemmatize(space_s)\n",
    "        return lemma_s\n",
    "        \n",
    "    def lemmatize(self, txt):\n",
    "        lemmatizer = self.lemmatizer\n",
    "        return ' '.join(lemmatizer.lemmatize(lemmatizer.lemmatize(word, pos = 'v'), pos = 'a') for word in txt.split())\n",
    "\n",
    "    def remove_articles(self, text):\n",
    "        return re.sub('\\s+('+self.articles+')(\\s+)', ' ',text)\n",
    "\n",
    "    def white_space_fix(self, text):\n",
    "        return ' '.join(text.split())\n",
    "\n",
    "    def remove_punc(self, text):\n",
    "        return text.translate(self.translator)\n",
    "\n",
    "    def lower(self, text):\n",
    "        return text.lower()"
   ]
  },
  {
   "cell_type": "code",
   "execution_count": 5,
   "metadata": {},
   "outputs": [],
   "source": [
    "processor = preprocessor()"
   ]
  },
  {
   "cell_type": "code",
   "execution_count": 6,
   "metadata": {},
   "outputs": [],
   "source": [
    "from nltk.corpus import brown\n",
    " \n",
    "data = []\n",
    " \n",
    "for fileid in brown.fileids():\n",
    "    document = ' '.join(brown.words(fileid))\n",
    "    data.append(processor.normalize_text(document))\n",
    "#     if(len(data) >= 5):\n",
    "#         break"
   ]
  },
  {
   "cell_type": "code",
   "execution_count": 7,
   "metadata": {},
   "outputs": [],
   "source": [
    "class vocab:\n",
    "    \n",
    "    def __init__(self, corpus):\n",
    "        \"\"\"\n",
    "        Corpus : list of docs\n",
    "        \"\"\"\n",
    "        self.dictionary = {}\n",
    "        self.vocab_size = 0\n",
    "        self.make_vocab(corpus)\n",
    "        self.inv_dictionary = {v: k for k, v in self.dictionary.items()}\n",
    "    \n",
    "    def make_vocab(self,corpus):\n",
    "        \n",
    "        count = 0\n",
    "        for doc in corpus:\n",
    "            for word in doc.strip().split():\n",
    "                if(word in self.dictionary.keys()):\n",
    "                    pass\n",
    "                else:\n",
    "                    self.dictionary[word] = count\n",
    "                    count += 1\n",
    "        \n",
    "        self.vocab_size = count\n",
    "        assert(len(self.dictionary.keys()) == count), \"Wrong Number of words added\"\n",
    "        \n",
    "    def get_index(self,word):\n",
    "        if(word in self.dictionary.keys()):\n",
    "            return self.dictionary[word]\n",
    "        else:\n",
    "            return -1\n",
    "    \n",
    "    def get_word(self,index):\n",
    "        if(index in self.inv_dictionary.keys()):\n",
    "            return self.inv_dictionary[index]\n",
    "        else:\n",
    "            return \" \""
   ]
  },
  {
   "cell_type": "code",
   "execution_count": 8,
   "metadata": {},
   "outputs": [],
   "source": [
    "myDict = vocab(data)"
   ]
  },
  {
   "cell_type": "code",
   "execution_count": 9,
   "metadata": {},
   "outputs": [
    {
     "data": {
      "text/plain": [
       "34110"
      ]
     },
     "execution_count": 9,
     "metadata": {},
     "output_type": "execute_result"
    }
   ],
   "source": [
    "myDict.vocab_size"
   ]
  },
  {
   "cell_type": "code",
   "execution_count": 10,
   "metadata": {},
   "outputs": [],
   "source": [
    "def make_mat(corpus, vocab):\n",
    "    \n",
    "    D = len(corpus)\n",
    "    V = vocab.vocab_size\n",
    "    mat = np.zeros((V, D))\n",
    "    for i in range(len(corpus)):\n",
    "        doc = corpus[i]\n",
    "        for word in doc.strip().split(\" \"):\n",
    "            index = vocab.get_index(word)\n",
    "            mat[index,i] += 1\n",
    "    return mat"
   ]
  },
  {
   "cell_type": "code",
   "execution_count": 11,
   "metadata": {},
   "outputs": [],
   "source": [
    "X = make_mat(data, myDict)"
   ]
  },
  {
   "cell_type": "code",
   "execution_count": 12,
   "metadata": {},
   "outputs": [
    {
     "data": {
      "text/plain": [
       "(34110, 500)"
      ]
     },
     "execution_count": 12,
     "metadata": {},
     "output_type": "execute_result"
    }
   ],
   "source": [
    "X.shape"
   ]
  },
  {
   "cell_type": "code",
   "execution_count": 38,
   "metadata": {},
   "outputs": [],
   "source": [
    "def NMF(X, k, Winit = None, Hinit = None, convex = True, max_iter = None, pprint = False):    \n",
    "    V, D = X.shape\n",
    "    eps = 0.0001\n",
    "    diff = 10\n",
    "    c_iter = 0\n",
    "    \n",
    "    if(max_iter is None):\n",
    "        max_iter  = 100\n",
    "    \n",
    "    if(Winit is None):\n",
    "        W = np.random.rand(V, k)\n",
    "        H = np.random.rand(k, D)\n",
    "    else:\n",
    "        W = Winit\n",
    "        H = Hinit\n",
    "\n",
    "        \n",
    "    while(diff > eps and c_iter < max_iter):\n",
    "        W_old = W.copy()\n",
    "        H_old = H.copy()\n",
    "        c_iter+=1\n",
    "    \n",
    "        if(convex):\n",
    "            H = H/np.sum(H, axis =1).reshape(-1,1)\n",
    "        W = W*(np.dot(X,H.T)/np.dot(W,np.dot(H, H.T)))\n",
    "        H = H*(np.dot(W.T,X)/np.dot(W.T,np.dot(W,H)))\n",
    "        \n",
    "        diff = np.sum(np.square(W_old - W))\n",
    "        if(c_iter%10 == 0 and pprint):\n",
    "            print(diff)\n",
    "    return W, H"
   ]
  },
  {
   "cell_type": "code",
   "execution_count": null,
   "metadata": {},
   "outputs": [],
   "source": [
    "W, H = NMF(X, 20)"
   ]
  },
  {
   "cell_type": "code",
   "execution_count": 90,
   "metadata": {},
   "outputs": [
    {
     "data": {
      "text/plain": [
       "[<matplotlib.lines.Line2D at 0x7fdfdef81b38>]"
      ]
     },
     "execution_count": 90,
     "metadata": {},
     "output_type": "execute_result"
    },
    {
     "data": {
      "image/png": "[encoded data removed]",
      "text/plain": [
       "<Figure size 432x288 with 1 Axes>"
      ]
     },
     "metadata": {
      "needs_background": "light"
     },
     "output_type": "display_data"
    }
   ],
   "source": [
    "plt.plot(W[:,10])"
   ]
  },
  {
   "cell_type": "code",
   "execution_count": 91,
   "metadata": {},
   "outputs": [],
   "source": [
    "indices = np.argsort(W[:,17])[0:10]"
   ]
  },
  {
   "cell_type": "code",
   "execution_count": 92,
   "metadata": {},
   "outputs": [
    {
     "name": "stdout",
     "output_type": "stream",
     "text": [
      "biosynthesized\n",
      "mungus\n",
      "fungus\n",
      "overweight\n",
      "beriberi\n",
      "neuralgia\n",
      "neuritis\n",
      "balmy\n",
      "polyunsaturated\n",
      "serafin\n"
     ]
    }
   ],
   "source": [
    "for i in indices:\n",
    "    print(myDict.get_word(i))"
   ]
  },
  {
   "cell_type": "code",
   "execution_count": 53,
   "metadata": {},
   "outputs": [],
   "source": [
    "def PF(X, k, Winit = None, Hinit = None, convex = True, max_iter = None, pprint = False, lr = 0.0000001):    \n",
    "    V, D = X.shape\n",
    "    eps = 0.0001\n",
    "    diff = 10\n",
    "    c_iter = 0\n",
    "    \n",
    "    if(max_iter is None):\n",
    "        max_iter  = 100\n",
    "    \n",
    "    if(Winit is None):\n",
    "        W = np.random.rand(V, k)\n",
    "        H = np.random.rand(k, D)\n",
    "    else:\n",
    "        W = Winit\n",
    "        H = Hinit\n",
    "\n",
    "        \n",
    "    while(diff > eps and c_iter < max_iter):\n",
    "        W_old = W.copy()\n",
    "        H_old = H.copy()\n",
    "        c_iter+=1\n",
    "    \n",
    "        if(convex):\n",
    "            H = H/np.sum(H, axis =1).reshape(-1,1)\n",
    "        \n",
    "        var = ((X/(np.dot(W,H)))-1)\n",
    "        \n",
    "        for i in range(V):\n",
    "            dLwi = np.sum(var[i,:]*H, axis = 1)\n",
    "            W[i,:] -= lr*dLwi\n",
    "            \n",
    "        var = ((X/(np.dot(W,H)))-1)\n",
    "            \n",
    "        for j in range(D):\n",
    "            dLhj = np.sum(W*var[:,j].reshape(-1,1), axis = 0)\n",
    "            H[:,j] -= lr*dLhj\n",
    "        \n",
    "#         W -= lr*dLw\n",
    "#         H -= lr*dLh\n",
    "            \n",
    "        diff = np.sum(np.square(W_old - W))\n",
    "        if(c_iter%10 == 0 and pprint):\n",
    "            print(diff)\n",
    "    return W, H"
   ]
  },
  {
   "cell_type": "code",
   "execution_count": null,
   "metadata": {},
   "outputs": [
    {
     "name": "stdout",
     "output_type": "stream",
     "text": [
      "395.7456107967818\n",
      "74.47880105661426\n"
     ]
    }
   ],
   "source": [
    "W, H = PF(X, 5, convex = False, max_iter = 100, pprint = True ,lr =0.00001)"
   ]
  },
  {
   "cell_type": "code",
   "execution_count": 57,
   "metadata": {},
   "outputs": [
    {
     "data": {
      "text/plain": [
       "[<matplotlib.lines.Line2D at 0x7fefbe928fd0>]"
      ]
     },
     "execution_count": 57,
     "metadata": {},
     "output_type": "execute_result"
    },
    {
     "data": {
      "image/png": "[encoded data removed]",
      "text/plain": [
       "<Figure size 432x288 with 1 Axes>"
      ]
     },
     "metadata": {
      "needs_background": "light"
     },
     "output_type": "display_data"
    }
   ],
   "source": [
    "plt.plot(W[:,0])"
   ]
  },
  {
   "cell_type": "code",
   "execution_count": null,
   "metadata": {},
   "outputs": [],
   "source": []
  }
 ],
 "metadata": {
  "kernelspec": {
   "display_name": "Python 3",
   "language": "python",
   "name": "python3"
  },
  "language_info": {
   "codemirror_mode": {
    "name": "ipython",
    "version": 3
   },
   "file_extension": ".py",
   "mimetype": "text/x-python",
   "name": "python",
   "nbconvert_exporter": "python",
   "pygments_lexer": "ipython3",
   "version": "3.6.6"
  }
 },
 "nbformat": 4,
 "nbformat_minor": 2
}
