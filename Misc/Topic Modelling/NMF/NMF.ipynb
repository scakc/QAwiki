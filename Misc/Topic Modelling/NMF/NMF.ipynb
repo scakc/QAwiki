{
 "cells": [
  {
   "cell_type": "code",
   "execution_count": 1,
   "metadata": {},
   "outputs": [],
   "source": [
    "import numpy as np\n",
    "import matplotlib.pyplot as plt\n",
    "import os\n",
    "import re\n",
    "import pandas as pd\n",
    "import string\n",
    "import nltk\n",
    "from nltk.corpus import stopwords\n",
    "from nltk.stem import WordNetLemmatizer as WNL\n",
    "import scipy\n",
    "from IPython.display import clear_output as clr\n",
    "%matplotlib inline"
   ]
  },
  {
   "cell_type": "code",
   "execution_count": 2,
   "metadata": {},
   "outputs": [
    {
     "data": {
      "text/plain": [
       "['.ipynb_checkpoints',\n",
       " '20news-18828.tar.gz',\n",
       " 'corpuses',\n",
       " 'LDA',\n",
       " 'NMF',\n",
       " 'stackoverflow-data-idf.json',\n",
       " 'stackoverflow-test.json',\n",
       " 'TF-IDF',\n",
       " 'train_corpus',\n",
       " 'Unigram']"
      ]
     },
     "execution_count": 2,
     "metadata": {},
     "output_type": "execute_result"
    }
   ],
   "source": [
    "# Defining data directory\n",
    "data_dir = os.getcwd() + '/../'\n",
    "# Check in contents of current dir are same as expected\n",
    "os.listdir(data_dir)"
   ]
  },
  {
   "cell_type": "code",
   "execution_count": 3,
   "metadata": {},
   "outputs": [],
   "source": [
    "import string\n",
    "import re\n",
    "import nltk\n",
    "from nltk.corpus import stopwords\n",
    "from nltk.stem import WordNetLemmatizer as WNL"
   ]
  },
  {
   "cell_type": "code",
   "execution_count": 4,
   "metadata": {},
   "outputs": [],
   "source": [
    "class preprocessor:\n",
    "    \n",
    "    def __init__(self):\n",
    "        # word lemmatizer\n",
    "        self.articles = 'a|an|and|the'\n",
    "        self.lemmatizer = WNL()\n",
    "        self.punctuations = string.punctuation\n",
    "        self.translator = str.maketrans(string.punctuation, ' '*len(self.punctuations))\n",
    "        \n",
    "    def normalize_text(self, s):\n",
    "        lower_s = self.lower(s)\n",
    "        rem_p_s = self.remove_punc(lower_s)\n",
    "        rem_a_s = self.remove_articles(rem_p_s)\n",
    "        space_s = self.white_space_fix(rem_a_s)\n",
    "        lemma_s = self.lemmatize(space_s)\n",
    "        return lemma_s\n",
    "        \n",
    "    def lemmatize(self, txt):\n",
    "        lemmatizer = self.lemmatizer\n",
    "        return ' '.join(lemmatizer.lemmatize(lemmatizer.lemmatize(word, pos = 'v'), pos = 'a') for word in txt.split())\n",
    "\n",
    "    def remove_articles(self, text):\n",
    "        return re.sub('\\s+('+self.articles+')(\\s+)', ' ',text)\n",
    "\n",
    "    def white_space_fix(self, text):\n",
    "        return ' '.join(text.split())\n",
    "\n",
    "    def remove_punc(self, text):\n",
    "        return text.translate(self.translator)\n",
    "\n",
    "    def lower(self, text):\n",
    "        return text.lower()"
   ]
  },
  {
   "cell_type": "code",
   "execution_count": 5,
   "metadata": {},
   "outputs": [],
   "source": [
    "processor = preprocessor()"
   ]
  },
  {
   "cell_type": "code",
   "execution_count": 69,
   "metadata": {},
   "outputs": [],
   "source": [
    "from nltk.corpus import brown\n",
    " \n",
    "data = []\n",
    " \n",
    "for fileid in brown.fileids():\n",
    "    document = ' '.join(brown.words(fileid))\n",
    "    data.append(processor.normalize_text(document))\n",
    "    if(len(data) >= 10):\n",
    "        break"
   ]
  },
  {
   "cell_type": "code",
   "execution_count": 70,
   "metadata": {},
   "outputs": [],
   "source": [
    "class vocab:\n",
    "    \n",
    "    def __init__(self, corpus):\n",
    "        \"\"\"\n",
    "        Corpus : list of docs\n",
    "        \"\"\"\n",
    "        self.dictionary = {}\n",
    "        self.vocab_size = 0\n",
    "        self.make_vocab(corpus)\n",
    "        self.inv_dictionary = {v: k for k, v in self.dictionary.items()}\n",
    "    \n",
    "    def make_vocab(self,corpus):\n",
    "        \n",
    "        count = 0\n",
    "        for doc in corpus:\n",
    "            for word in doc.strip().split():\n",
    "                if(word in self.dictionary.keys()):\n",
    "                    pass\n",
    "                else:\n",
    "                    self.dictionary[word] = count\n",
    "                    count += 1\n",
    "        \n",
    "        self.vocab_size = count\n",
    "        assert(len(self.dictionary.keys()) == count), \"Wrong Number of words added\"\n",
    "        \n",
    "    def get_index(self,word):\n",
    "        if(word in self.dictionary.keys()):\n",
    "            return self.dictionary[word]\n",
    "        else:\n",
    "            return -1\n",
    "    \n",
    "    def get_word(self,index):\n",
    "        if(index in self.inv_dictionary.keys()):\n",
    "            return self.inv_dictionary[index]\n",
    "        else:\n",
    "            return \" \""
   ]
  },
  {
   "cell_type": "code",
   "execution_count": 71,
   "metadata": {},
   "outputs": [],
   "source": [
    "myDict = vocab(data)"
   ]
  },
  {
   "cell_type": "code",
   "execution_count": 72,
   "metadata": {},
   "outputs": [
    {
     "data": {
      "text/plain": [
       "3446"
      ]
     },
     "execution_count": 72,
     "metadata": {},
     "output_type": "execute_result"
    }
   ],
   "source": [
    "myDict.vocab_size"
   ]
  },
  {
   "cell_type": "code",
   "execution_count": 73,
   "metadata": {},
   "outputs": [],
   "source": [
    "def make_mat(corpus, vocab):\n",
    "    \n",
    "    D = len(corpus)\n",
    "    V = vocab.vocab_size\n",
    "    mat = np.zeros((V, D))\n",
    "    for i in range(len(corpus)):\n",
    "        doc = corpus[i]\n",
    "        for word in doc.strip().split(\" \"):\n",
    "            index = vocab.get_index(word)\n",
    "            mat[index,i] += 1\n",
    "    return mat"
   ]
  },
  {
   "cell_type": "code",
   "execution_count": 74,
   "metadata": {},
   "outputs": [],
   "source": [
    "X = make_mat(data, myDict)"
   ]
  },
  {
   "cell_type": "code",
   "execution_count": 75,
   "metadata": {},
   "outputs": [
    {
     "data": {
      "text/plain": [
       "(3446, 10)"
      ]
     },
     "execution_count": 75,
     "metadata": {},
     "output_type": "execute_result"
    }
   ],
   "source": [
    "X.shape"
   ]
  },
  {
   "cell_type": "code",
   "execution_count": 598,
   "metadata": {},
   "outputs": [],
   "source": [
    "def NMF(X, k, Winit = None, Hinit = None, convex = True, max_iter = None, pprint = False):    \n",
    "    V, D = X.shape\n",
    "    eps = 0.0001\n",
    "    diff = 10\n",
    "    c_iter = 0\n",
    "    \n",
    "    if(max_iter is None):\n",
    "        max_iter  = 100\n",
    "    \n",
    "    if(Winit is None):\n",
    "        W = np.random.rand(V, k)\n",
    "        H = np.random.rand(k, D)\n",
    "    else:\n",
    "        W = Winit\n",
    "        H = Hinit\n",
    "\n",
    "        \n",
    "    while(diff > eps and c_iter < max_iter):\n",
    "        c_iter+=1\n",
    "    \n",
    "        var = (X - np.dot(W, H))\n",
    "        if(convex):\n",
    "            H = H/np.sum(H, axis =1).reshape(-1,1)\n",
    "        W = W*(np.dot(X,H.T)/np.dot(W,np.dot(H, H.T)))\n",
    "        H = H*(np.dot(W.T,X)/np.dot(W.T,np.dot(W,H)))\n",
    "        \n",
    "        diff = np.sum(np.square(var))\n",
    "        if(c_iter%100 == 0 and pprint):\n",
    "            print(diff)\n",
    "    return W, H"
   ]
  },
  {
   "cell_type": "code",
   "execution_count": 599,
   "metadata": {},
   "outputs": [
    {
     "name": "stdout",
     "output_type": "stream",
     "text": [
      "18516.4918037627\n",
      "17936.748909931386\n",
      "17779.24611580666\n",
      "17733.52649756182\n",
      "17704.094165221868\n",
      "17687.0477214625\n",
      "17668.024143395356\n",
      "17659.571413635796\n",
      "17657.010542874243\n",
      "17655.491227673498\n",
      "17654.693414080324\n",
      "17653.493101667762\n",
      "17653.13135921922\n",
      "17652.76155800232\n",
      "17652.49438555885\n",
      "17652.30819805387\n",
      "17652.160860154905\n",
      "17652.0582490123\n",
      "17651.368435623914\n",
      "17651.13361772854\n",
      "17650.63684341432\n",
      "17650.545106637153\n",
      "17650.46097609847\n",
      "17650.4039319881\n",
      "17650.359803160107\n",
      "17650.345839137106\n",
      "17650.33587196523\n",
      "17650.326522814834\n",
      "17650.31436398202\n",
      "17650.30440047054\n",
      "17650.297779992987\n",
      "17650.29025529925\n",
      "17650.279400479554\n",
      "17650.271800104172\n",
      "17650.26821232146\n",
      "17650.26626141355\n",
      "17650.264585166085\n",
      "17650.263126265323\n",
      "17650.2597255923\n",
      "17650.25696687814\n",
      "17650.25589971725\n",
      "17650.253850276546\n",
      "17650.251336880883\n",
      "17650.24859385435\n",
      "17650.247822776055\n",
      "17650.24719612964\n",
      "17650.246645346928\n",
      "17650.244935276376\n",
      "17650.24347072909\n",
      "17650.243052698905\n"
     ]
    }
   ],
   "source": [
    "W, H = NMF(X, 5, pprint = True, convex = False, max_iter = 5000)"
   ]
  },
  {
   "cell_type": "code",
   "execution_count": 114,
   "metadata": {},
   "outputs": [
    {
     "data": {
      "text/plain": [
       "[<matplotlib.lines.Line2D at 0x7f51924bca58>]"
      ]
     },
     "execution_count": 114,
     "metadata": {},
     "output_type": "execute_result"
    },
    {
     "data": {
      "image/png": "[encoded data removed]",
      "text/plain": [
       "<Figure size 432x288 with 1 Axes>"
      ]
     },
     "metadata": {
      "needs_background": "light"
     },
     "output_type": "display_data"
    }
   ],
   "source": [
    "plt.plot(W[:,1])"
   ]
  },
  {
   "cell_type": "code",
   "execution_count": 119,
   "metadata": {},
   "outputs": [],
   "source": [
    "indices = np.argsort(W[:,3])[0:10]"
   ]
  },
  {
   "cell_type": "code",
   "execution_count": 120,
   "metadata": {},
   "outputs": [
    {
     "name": "stdout",
     "output_type": "stream",
     "text": [
      "whole\n",
      "dependent\n",
      "ribbon\n",
      "forbid\n",
      "employment\n",
      "discrimination\n",
      "racial\n",
      "strickland\n",
      "chester\n",
      "supt\n"
     ]
    }
   ],
   "source": [
    "for i in indices:\n",
    "    print(myDict.get_word(i))"
   ]
  },
  {
   "cell_type": "code",
   "execution_count": 693,
   "metadata": {},
   "outputs": [],
   "source": [
    "def GaP(F, K,a,b, Winit = None, Hinit = None, convex = True, max_iter = None, pprint = False):    \n",
    "    \n",
    "    V, D = F.shape\n",
    "    epsi = 10e-5\n",
    "    eps = 0.0001\n",
    "    diff = 10\n",
    "    c_iter = 0\n",
    "    \n",
    "    if(max_iter is None):\n",
    "        max_iter  = 100\n",
    "    \n",
    "    if(Winit is None):\n",
    "        L = np.random.rand(V, K)+0.1\n",
    "        X = np.random.rand(K, D)+0.1\n",
    "    else:\n",
    "        L = Winit\n",
    "        X = Hinit\n",
    "\n",
    "        \n",
    "    while(diff > eps and c_iter < max_iter):\n",
    "        \n",
    "        c_iter+=1\n",
    "        \n",
    "        Y = np.dot(L, X)\n",
    "        FbyY = F/(Y + epsi) # V x D\n",
    "\n",
    "        diff = np.sum(np.square(F - Y))\n",
    "        # E step \n",
    "        denominator = np.sum(L, axis = 0) + 1/b  + epsi## K x 1\n",
    "        \n",
    "        \n",
    "        for kv in range(D):\n",
    "            p1 = np.sum(FbyY[:,kv].reshape(-1,1)*L, axis = 0)\n",
    "            X_kv = X[:,kv]\n",
    "            X[:,kv] *= (p1 + (a-1)/(X_kv + epsi))/(denominator)\n",
    "            \n",
    "        # M step\n",
    "        \n",
    "        denominator = np.sum(X, axis = 1)## K x 1\n",
    "        numerator = np.dot(FbyY, X.T) ## V x K\n",
    "        \n",
    "        \n",
    "        L *= (numerator/(denominator + epsi))\n",
    "    \n",
    "        if(c_iter%1000 == 0 and pprint):\n",
    "            print(diff)\n",
    "    return L, X"
   ]
  },
  {
   "cell_type": "code",
   "execution_count": 694,
   "metadata": {},
   "outputs": [],
   "source": [
    "K = 5\n",
    "a = np.random.rand(K)+1\n",
    "b = np.random.rand(K)"
   ]
  },
  {
   "cell_type": "code",
   "execution_count": 696,
   "metadata": {},
   "outputs": [
    {
     "name": "stdout",
     "output_type": "stream",
     "text": [
      "112078.33209790789\n",
      "101019.43389547874\n",
      "92271.44525030992\n",
      "84625.4156158772\n",
      "77759.09358177126\n",
      "71549.03362199155\n",
      "65931.80086471868\n",
      "60862.45848059574\n",
      "56302.33585541582\n",
      "52214.85098410531\n",
      "48564.193830797165\n",
      "45315.127944028194\n",
      "42433.21458706433\n",
      "39885.15665740598\n",
      "37639.12926788958\n",
      "35665.04366157384\n",
      "33934.729908806745\n",
      "32422.04213449279\n",
      "31102.897649840892\n",
      "29955.263453679094\n",
      "28959.10295402047\n",
      "28096.29401607628\n",
      "27350.52740725562\n",
      "26707.192793725517\n",
      "26153.257810128754\n",
      "25677.144404792052\n",
      "25268.60562729888\n",
      "24918.605220707315\n",
      "24619.201754064467\n",
      "24363.438537602862\n",
      "24145.24016933217\n",
      "23959.316243843652\n",
      "23801.072496291665\n",
      "23666.529445896653\n",
      "23552.248436679212\n",
      "23455.264843303572\n",
      "23373.028112059077\n",
      "23303.348237423514\n",
      "23244.348229051084\n",
      "23194.42209892646\n",
      "23152.197889872496\n",
      "23116.50527139338\n",
      "23086.347243735778\n",
      "23060.87551337688\n",
      "23039.369130475407\n",
      "23021.216009256925\n",
      "23005.89698425605\n",
      "22992.972087501803\n",
      "22982.06876327921\n",
      "22972.871767261106\n",
      "22965.114525233057\n",
      "22958.57175293359\n",
      "22953.053162649576\n",
      "22948.398104078482\n",
      "22944.471006614403\n",
      "22941.157507736403\n",
      "22938.361167730254\n",
      "22936.00068465641\n",
      "22934.007535477576\n",
      "22932.32397975186\n",
      "22930.90137139745\n",
      "22929.698731941182\n",
      "22928.681545478128\n",
      "22927.82074144148\n",
      "22927.091836341566\n",
      "22926.474209949356\n",
      "22925.950495109308\n",
      "22925.506063526256\n",
      "22925.128592569494\n",
      "22924.80770043156\n",
      "22924.53463893171\n",
      "22924.302034910143\n",
      "22924.103672569065\n",
      "22923.93431030248\n",
      "22923.789526571018\n",
      "22923.6655902261\n",
      "22923.559351415457\n",
      "22923.46814980383\n",
      "22923.389737365065\n",
      "22923.322213429066\n",
      "22923.26397003716\n",
      "22923.213645967524\n",
      "22923.170088051014\n",
      "22923.13231861689\n",
      "22923.099508094714\n",
      "22923.070951950005\n",
      "22923.046051265534\n",
      "22923.024296386717\n",
      "22923.005253146046\n",
      "22922.988551253566\n",
      "22922.973874512238\n",
      "22922.96095256604\n",
      "22922.949553939663\n",
      "22922.939480163303\n",
      "22922.93056081235\n",
      "22922.922649315577\n",
      "22922.915619413223\n",
      "22922.90936215907\n",
      "22922.903783383674\n",
      "22922.898801545514\n",
      "22922.89434590856\n",
      "22922.890354996296\n",
      "22922.88677527847\n",
      "22922.883560054754\n",
      "22922.880668504673\n",
      "22922.878064877605\n",
      "22922.875717802795\n",
      "22922.87359969898\n",
      "22922.8716862702\n",
      "22922.869956073657\n",
      "22922.86839014921\n",
      "22922.866971701267\n",
      "22922.865685824414\n",
      "22922.864519267816\n",
      "22922.863460231776\n",
      "22922.86249819073\n",
      "22922.861623741628\n",
      "22922.860828470566\n",
      "22922.860104838386\n",
      "22922.859446079914\n",
      "22922.858846116396\n",
      "22922.858299479103\n",
      "22922.857801242073\n",
      "22922.857346963472\n",
      "22922.85693263317\n",
      "22922.856554627822\n",
      "22922.856209669822\n",
      "22922.85589479197\n",
      "22922.855607306275\n",
      "22922.855344774754\n",
      "22922.855104985618\n",
      "22922.854885930185\n",
      "22922.85468578353\n",
      "22922.854502886676\n",
      "22922.854335730364\n",
      "22922.85418294119\n",
      "22922.85404326866\n",
      "22922.85391557367\n",
      "22922.853798818178\n",
      "22922.85369205618\n",
      "22922.853594424607\n",
      "22922.853505136412\n",
      "22922.853423473574\n",
      "22922.85334878057\n",
      "22922.85328045905\n",
      "22922.853217962594\n",
      "22922.85316079233\n",
      "22922.853108492323\n",
      "22922.85306064617\n",
      "22922.853016873443\n",
      "22922.852976826176\n",
      "22922.852940186654\n",
      "22922.852906664168\n",
      "22922.852875993285\n",
      "22922.852847930844\n",
      "22922.852822254998\n",
      "22922.852798762335\n",
      "22922.85277726728\n",
      "22922.852757599914\n",
      "22922.85273960477\n",
      "22922.85272313964\n",
      "22922.852708074653\n",
      "22922.85269429061\n",
      "22922.852681678836\n",
      "22922.852670139673\n",
      "22922.85265958201\n",
      "22922.8526499224\n",
      "22922.85264108474\n",
      "22922.852632998984\n",
      "22922.852625601554\n",
      "22922.852618833793\n",
      "22922.852612642284\n",
      "22922.852606978093\n",
      "22922.852601796374\n",
      "22922.852597056306\n",
      "22922.852592720155\n",
      "22922.85258875367\n",
      "22922.852585125525\n",
      "22922.85258180694\n",
      "22922.852578771624\n",
      "22922.852575995432\n",
      "22922.852573456345\n",
      "22922.852571134277\n",
      "22922.852569010658\n",
      "22922.85256706866\n",
      "22922.85256529292\n",
      "22922.85256366927\n",
      "22922.852562184635\n",
      "22922.85256082717\n",
      "22922.85255958627\n",
      "22922.852558451697\n",
      "22922.85255741471\n",
      "22922.852556466863\n",
      "22922.852555600533\n",
      "22922.852554808647\n",
      "22922.852554085108\n",
      "22922.852553423818\n",
      "22922.852552819615\n",
      "22922.852552267614\n",
      "22922.852551763346\n"
     ]
    }
   ],
   "source": [
    "W, H = GaP(X, K,a,b, pprint = True, convex = False, max_iter = 20000)"
   ]
  },
  {
   "cell_type": "code",
   "execution_count": 702,
   "metadata": {},
   "outputs": [
    {
     "data": {
      "text/plain": [
       "[<matplotlib.lines.Line2D at 0x7f518e5e1a20>]"
      ]
     },
     "execution_count": 702,
     "metadata": {},
     "output_type": "execute_result"
    },
    {
     "data": {
      "image/png": "[encoded data removed]",
      "text/plain": [
       "<Figure size 432x288 with 1 Axes>"
      ]
     },
     "metadata": {
      "needs_background": "light"
     },
     "output_type": "display_data"
    }
   ],
   "source": [
    "plt.plot(W[:,0])"
   ]
  },
  {
   "cell_type": "code",
   "execution_count": 711,
   "metadata": {},
   "outputs": [],
   "source": [
    "indices = np.argsort(W[:,4])[0:10]"
   ]
  },
  {
   "cell_type": "code",
   "execution_count": 712,
   "metadata": {},
   "outputs": [
    {
     "name": "stdout",
     "output_type": "stream",
     "text": [
      "whole\n",
      "pool\n",
      "resources\n",
      "victory\n",
      "original\n",
      "screw\n",
      "1955\n",
      "us\n",
      "gross\n",
      "product\n"
     ]
    }
   ],
   "source": [
    "for i in indices:\n",
    "    print(myDict.get_word(i))"
   ]
  },
  {
   "cell_type": "code",
   "execution_count": null,
   "metadata": {},
   "outputs": [],
   "source": []
  }
 ],
 "metadata": {
  "kernelspec": {
   "display_name": "Python 3",
   "language": "python",
   "name": "python3"
  },
  "language_info": {
   "codemirror_mode": {
    "name": "ipython",
    "version": 3
   },
   "file_extension": ".py",
   "mimetype": "text/x-python",
   "name": "python",
   "nbconvert_exporter": "python",
   "pygments_lexer": "ipython3",
   "version": "3.6.6"
  }
 },
 "nbformat": 4,
 "nbformat_minor": 2
}
